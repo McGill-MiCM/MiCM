{
 "cells": [
  {
   "cell_type": "markdown",
   "metadata": {},
   "source": [
    "# MiCM Workshop Series - R Programming Beyond the Basics\n",
    "## Efficient Coding and Computing\n",
    "### - Yi Lian\n",
    "### - August 13, 2019"
   ]
  },
  {
   "cell_type": "markdown",
   "metadata": {},
   "source": [
    "## Outline\n",
    "**_Morning_**\n",
    "1. __An overview of efficiency__\n",
    "    - General rules\n",
    "    - R-specific rules\n",
    "    - Time your program in R\n",
    "2. __Efficient coding__\n",
    "    - Powerful functions in R\n",
    "            - aggregate(), by(), apply() family\n",
    "            - ifelse(), cut() and split()\n",
    "    - Write our own functions in R\n",
    "            - function()\n",
    "    - Examples and exercises\n",
    "        - Categorization, conditional operations, etc..\n",
    "        \n",
    "**_Afternoon_**\n",
    "3. __Efficient computing__\n",
    "    - Parallel computing\n",
    "            - Package 'parallel'\n",
    "    - Integration with C++\n",
    "            - Package 'Rcpp'\n",
    "    - Integration with Fortran\n",
    "    - Examples and exercises\n",
    "        - Implement our own gradient descent function written in R, Rcpp or Fortran!\n",
    "        \n",
    "##### Important note! There are (too) MANY advanced and powerful packages that do different things. However, they will not be covered in this tutorial.\n",
    "##### Here is a list of some awesome packages for data manipulation.\n",
    "https://awesome-r.com/#awesome-r-data-manipulation"
   ]
  },
  {
   "attachments": {},
   "cell_type": "markdown",
   "metadata": {},
   "source": [
    "## 1. An overview of efficiency\n",
    "#### Why?\n",
    "- Era of big data/machine learning/AI\n",
    "- Large sample size and/or high dimension\n",
    "\n",
    "### 1.1 General rules\n",
    "- Reading/writing data takes time (CPU)\n",
    "    - Memory allocation and re-allocation\n",
    "    - A not really appropriate illustration \n",
    "        - https://www.amazon.ca/Sandisk-Memory-Standard-Packaging-SDSDUNC-128G-GN6IN/dp/B0143IISD0/ref=sr_1_3?crid=36QB2Y3GKN3P6&keywords=sd+card+for+camera&qid=1561902726&s=electronics&sprefix=sd+card+for+camera%2Caps%2C128&sr=1-3\n",
    "- All operations take time (CPU)\n",
    "- Objects and operations take memory\n",
    "    - http://adv-r.had.co.nz/memory.html\n",
    "    - e.g. R will do \"garbage collection\" automatically when it needs more memory, which takes time\n",
    "- Setups take time (overhead)\n",
    "- Programming languages are different and are fast/slow at different things\n",
    "- Efficient coding $\\neq$ efficient computing\n",
    "    - Shorter codes do not necessarily lead to shorter run time.\n",
    "- __Avoid duplicated operations, especially expensive operations__\n",
    "    - Matrix mulplications, inversion, etc..\n",
    "    - Store the results that will be used later as objects.\n",
    "- __Test your program__\n",
    "\n",
    "### 1.2 R-specific rules\n",
    "- R emphasizes flexibility but not speed\n",
    "    - Very good for research\n",
    "- R is designed to be better with vectorized operations than loops\n",
    "- Without specific setups, R only uses 1 CPU core/thread\n",
    "    - Setting up parallel (multicore) computing takes time (overhead)\n",
    "- Use well-developped R functions and packages\n",
    "    - Some of them have core computations written in other languages, e.g. C, C++, Fortran"
   ]
  },
  {
   "cell_type": "code",
   "execution_count": 1,
   "metadata": {},
   "outputs": [],
   "source": [
    "# On MacOS, CPU usage can go up to 100% when 1 core is used.\n",
    "# Let's try to inverse a large matrix.\n",
    "# A <- diag(5000)\n",
    "# A.inv <- solve(A)\n",
    "\n",
    "# optim in R calls C programs, run optim to see source code.\n",
    "# optim"
   ]
  },
  {
   "cell_type": "markdown",
   "metadata": {},
   "source": [
    "### 1.3 Time your program in R\n",
    "        - proc.time(), system.time()\n",
    "        - microbenchmark()"
   ]
  },
  {
   "cell_type": "markdown",
   "metadata": {},
   "source": [
    "##### Example\n",
    "Calculate the square root of integers 1 to 1,000,000 using two different operations:"
   ]
  },
  {
   "cell_type": "code",
   "execution_count": 10,
   "metadata": {},
   "outputs": [],
   "source": [
    "# Vectorized operation\n",
    "t <- system.time( x1 <- sqrt(1:1000000) )"
   ]
  },
  {
   "cell_type": "code",
   "execution_count": 11,
   "metadata": {},
   "outputs": [
    {
     "data": {
      "text/html": [
       "TRUE"
      ],
      "text/latex": [
       "TRUE"
      ],
      "text/markdown": [
       "TRUE"
      ],
      "text/plain": [
       "[1] TRUE"
      ]
     },
     "metadata": {},
     "output_type": "display_data"
    }
   ],
   "source": [
    "# We can do worse\n",
    "# For loop with memory pre-allocation\n",
    "x2 <- rep(NA, 1000000)\n",
    "t0 <- proc.time()\n",
    "for (i in 1:1000000) {\n",
    "    x2[i] <- sqrt(i)\n",
    "}\n",
    "t1 <- proc.time()\n",
    "\n",
    "identical(x1, x2)"
   ]
  },
  {
   "cell_type": "code",
   "execution_count": 12,
   "metadata": {},
   "outputs": [
    {
     "data": {
      "text/html": [
       "TRUE"
      ],
      "text/latex": [
       "TRUE"
      ],
      "text/markdown": [
       "TRUE"
      ],
      "text/plain": [
       "[1] TRUE"
      ]
     },
     "metadata": {},
     "output_type": "display_data"
    }
   ],
   "source": [
    "# Even worse\n",
    "# For loop withour memory pre-allocation\n",
    "x3 <- NULL\n",
    "t2 <- proc.time()\n",
    "for (i in 1:1000000) {\n",
    "    x3[i] <- sqrt(i)\n",
    "}\n",
    "t3 <- proc.time()\n",
    "\n",
    "identical(x2, x3)"
   ]
  },
  {
   "cell_type": "code",
   "execution_count": 5,
   "metadata": {},
   "outputs": [
    {
     "data": {
      "text/plain": [
       "   user  system elapsed \n",
       "  0.006   0.004   0.010 "
      ]
     },
     "metadata": {},
     "output_type": "display_data"
    },
    {
     "data": {
      "text/plain": [
       "   user  system elapsed \n",
       "  0.068   0.002   0.071 "
      ]
     },
     "metadata": {},
     "output_type": "display_data"
    },
    {
     "data": {
      "text/plain": [
       "   user  system elapsed \n",
       "  0.297   0.072   0.376 "
      ]
     },
     "metadata": {},
     "output_type": "display_data"
    }
   ],
   "source": [
    "# As we can see, R is not very good with loops.\n",
    "t; t1 - t0; t3 - t2"
   ]
  },
  {
   "cell_type": "code",
   "execution_count": 6,
   "metadata": {},
   "outputs": [
    {
     "data": {
      "text/html": [
       "<table>\n",
       "<caption>A data.frame: 2 × 8</caption>\n",
       "<thead>\n",
       "\t<tr><th scope=col>expr</th><th scope=col>min</th><th scope=col>lq</th><th scope=col>mean</th><th scope=col>median</th><th scope=col>uq</th><th scope=col>max</th><th scope=col>neval</th></tr>\n",
       "\t<tr><th scope=col>&lt;fct&gt;</th><th scope=col>&lt;dbl&gt;</th><th scope=col>&lt;dbl&gt;</th><th scope=col>&lt;dbl&gt;</th><th scope=col>&lt;dbl&gt;</th><th scope=col>&lt;dbl&gt;</th><th scope=col>&lt;dbl&gt;</th><th scope=col>&lt;dbl&gt;</th></tr>\n",
       "</thead>\n",
       "<tbody>\n",
       "\t<tr><td>sqrt(1:1e+06)                              </td><td>0.004028415</td><td>0.004173729</td><td>0.009392475</td><td>0.007156471</td><td>0.009549327</td><td>0.04945029</td><td>20</td></tr>\n",
       "\t<tr><td><span style=white-space:pre-wrap>for (i in 1:1e+06) {     x2[i] &lt;- sqrt(i) }</span></td><td>0.058979275</td><td>0.060196960</td><td>0.069452704</td><td>0.062624584</td><td>0.065839076</td><td>0.15816191</td><td>20</td></tr>\n",
       "</tbody>\n",
       "</table>\n"
      ],
      "text/latex": [
       "A data.frame: 2 × 8\n",
       "\\begin{tabular}{r|llllllll}\n",
       " expr & min & lq & mean & median & uq & max & neval\\\\\n",
       " <fct> & <dbl> & <dbl> & <dbl> & <dbl> & <dbl> & <dbl> & <dbl>\\\\\n",
       "\\hline\n",
       "\t sqrt(1:1e+06)                               & 0.004028415 & 0.004173729 & 0.009392475 & 0.007156471 & 0.009549327 & 0.04945029 & 20\\\\\n",
       "\t for (i in 1:1e+06) \\{     x2{[}i{]} <- sqrt(i) \\} & 0.058979275 & 0.060196960 & 0.069452704 & 0.062624584 & 0.065839076 & 0.15816191 & 20\\\\\n",
       "\\end{tabular}\n"
      ],
      "text/markdown": [
       "\n",
       "A data.frame: 2 × 8\n",
       "\n",
       "| expr &lt;fct&gt; | min &lt;dbl&gt; | lq &lt;dbl&gt; | mean &lt;dbl&gt; | median &lt;dbl&gt; | uq &lt;dbl&gt; | max &lt;dbl&gt; | neval &lt;dbl&gt; |\n",
       "|---|---|---|---|---|---|---|---|\n",
       "| sqrt(1:1e+06)                               | 0.004028415 | 0.004173729 | 0.009392475 | 0.007156471 | 0.009549327 | 0.04945029 | 20 |\n",
       "| for (i in 1:1e+06) {     x2[i] &lt;- sqrt(i) } | 0.058979275 | 0.060196960 | 0.069452704 | 0.062624584 | 0.065839076 | 0.15816191 | 20 |\n",
       "\n"
      ],
      "text/plain": [
       "  expr                                        min         lq         \n",
       "1 sqrt(1:1e+06)                               0.004028415 0.004173729\n",
       "2 for (i in 1:1e+06) {     x2[i] <- sqrt(i) } 0.058979275 0.060196960\n",
       "  mean        median      uq          max        neval\n",
       "1 0.009392475 0.007156471 0.009549327 0.04945029 20   \n",
       "2 0.069452704 0.062624584 0.065839076 0.15816191 20   "
      ]
     },
     "metadata": {},
     "output_type": "display_data"
    }
   ],
   "source": [
    "library(microbenchmark)\n",
    "result <- microbenchmark(sqrt(1:1000000),\n",
    "                         for (i in 1:1000000) {x2[i] <- sqrt(i)},\n",
    "                         unit = \"s\", times = 20\n",
    "                        )\n",
    "summary(result)\n",
    "# Result in seconds"
   ]
  },
  {
   "cell_type": "code",
   "execution_count": 7,
   "metadata": {},
   "outputs": [
    {
     "data": {
      "text/html": [
       "<table>\n",
       "<caption>A data.frame: 2 × 8</caption>\n",
       "<thead>\n",
       "\t<tr><th scope=col>expr</th><th scope=col>min</th><th scope=col>lq</th><th scope=col>mean</th><th scope=col>median</th><th scope=col>uq</th><th scope=col>max</th><th scope=col>neval</th></tr>\n",
       "\t<tr><th scope=col>&lt;fct&gt;</th><th scope=col>&lt;dbl&gt;</th><th scope=col>&lt;dbl&gt;</th><th scope=col>&lt;dbl&gt;</th><th scope=col>&lt;dbl&gt;</th><th scope=col>&lt;dbl&gt;</th><th scope=col>&lt;dbl&gt;</th><th scope=col>&lt;dbl&gt;</th></tr>\n",
       "</thead>\n",
       "<tbody>\n",
       "\t<tr><td>sqrt(500)</td><td> 78</td><td> 88</td><td> 94.092</td><td> 92</td><td> 97</td><td> 755</td><td>1000</td></tr>\n",
       "\t<tr><td>500^0.5  </td><td>153</td><td>161</td><td>176.746</td><td>167</td><td>173</td><td>4191</td><td>1000</td></tr>\n",
       "</tbody>\n",
       "</table>\n"
      ],
      "text/latex": [
       "A data.frame: 2 × 8\n",
       "\\begin{tabular}{r|llllllll}\n",
       " expr & min & lq & mean & median & uq & max & neval\\\\\n",
       " <fct> & <dbl> & <dbl> & <dbl> & <dbl> & <dbl> & <dbl> & <dbl>\\\\\n",
       "\\hline\n",
       "\t sqrt(500) &  78 &  88 &  94.092 &  92 &  97 &  755 & 1000\\\\\n",
       "\t 500\\textasciicircum{}0.5   & 153 & 161 & 176.746 & 167 & 173 & 4191 & 1000\\\\\n",
       "\\end{tabular}\n"
      ],
      "text/markdown": [
       "\n",
       "A data.frame: 2 × 8\n",
       "\n",
       "| expr &lt;fct&gt; | min &lt;dbl&gt; | lq &lt;dbl&gt; | mean &lt;dbl&gt; | median &lt;dbl&gt; | uq &lt;dbl&gt; | max &lt;dbl&gt; | neval &lt;dbl&gt; |\n",
       "|---|---|---|---|---|---|---|---|\n",
       "| sqrt(500) |  78 |  88 |  94.092 |  92 |  97 |  755 | 1000 |\n",
       "| 500^0.5   | 153 | 161 | 176.746 | 167 | 173 | 4191 | 1000 |\n",
       "\n"
      ],
      "text/plain": [
       "  expr      min lq  mean    median uq  max  neval\n",
       "1 sqrt(500)  78  88  94.092  92     97  755 1000 \n",
       "2 500^0.5   153 161 176.746 167    173 4191 1000 "
      ]
     },
     "metadata": {},
     "output_type": "display_data"
    }
   ],
   "source": [
    "# Use well-developped R functions\n",
    "result <- microbenchmark(sqrt(500),\n",
    "                         500^0.5,\n",
    "                         unit = \"ns\", times = 1000\n",
    "                        )\n",
    "summary(result)\n",
    "# Result in nanoseconds"
   ]
  },
  {
   "cell_type": "markdown",
   "metadata": {},
   "source": [
    "##### In summary, keep the rules in mind, test your program, time your program.\n",
    "## 2. Efficient coding\n",
    "R has many powerful and useful functions that we can use to achieve efficient coding and computing.\n",
    "### Let's play with some data."
   ]
  },
  {
   "cell_type": "code",
   "execution_count": 6,
   "metadata": {},
   "outputs": [
    {
     "data": {
      "text/html": [
       "<table>\n",
       "<caption>A data.frame: 10 × 8</caption>\n",
       "<thead>\n",
       "\t<tr><th scope=col>X</th><th scope=col>Sex</th><th scope=col>Wr.Hnd</th><th scope=col>NW.Hnd</th><th scope=col>Pulse</th><th scope=col>Smoke</th><th scope=col>Height</th><th scope=col>Age</th></tr>\n",
       "\t<tr><th scope=col>&lt;int&gt;</th><th scope=col>&lt;fct&gt;</th><th scope=col>&lt;dbl&gt;</th><th scope=col>&lt;dbl&gt;</th><th scope=col>&lt;int&gt;</th><th scope=col>&lt;fct&gt;</th><th scope=col>&lt;dbl&gt;</th><th scope=col>&lt;dbl&gt;</th></tr>\n",
       "</thead>\n",
       "<tbody>\n",
       "\t<tr><td> 1</td><td>Male  </td><td>21.4</td><td>21.0</td><td>63</td><td>Never</td><td>180.00</td><td>19.000</td></tr>\n",
       "\t<tr><td> 2</td><td>Male  </td><td>19.5</td><td>19.4</td><td>79</td><td>Never</td><td>165.00</td><td>18.083</td></tr>\n",
       "\t<tr><td> 3</td><td>Female</td><td>16.3</td><td>16.2</td><td>44</td><td>Regul</td><td>152.40</td><td>23.500</td></tr>\n",
       "\t<tr><td> 4</td><td>Female</td><td>15.9</td><td>16.5</td><td>99</td><td>Never</td><td>167.64</td><td>17.333</td></tr>\n",
       "\t<tr><td> 5</td><td>Male  </td><td>19.3</td><td>19.4</td><td>55</td><td>Never</td><td>180.34</td><td>19.833</td></tr>\n",
       "\t<tr><td> 6</td><td>Male  </td><td>18.5</td><td>18.5</td><td>48</td><td>Never</td><td>167.00</td><td>22.333</td></tr>\n",
       "\t<tr><td> 7</td><td>Female</td><td>17.5</td><td>17.0</td><td>85</td><td>Heavy</td><td>163.00</td><td>17.667</td></tr>\n",
       "\t<tr><td> 8</td><td>Male  </td><td>19.8</td><td>20.0</td><td>NA</td><td>Never</td><td>180.00</td><td>17.417</td></tr>\n",
       "\t<tr><td> 9</td><td>Female</td><td>13.0</td><td>12.5</td><td>77</td><td>Never</td><td>165.00</td><td>18.167</td></tr>\n",
       "\t<tr><td>10</td><td>Female</td><td>18.5</td><td>18.0</td><td>75</td><td>Never</td><td>173.00</td><td>18.250</td></tr>\n",
       "</tbody>\n",
       "</table>\n"
      ],
      "text/latex": [
       "A data.frame: 10 × 8\n",
       "\\begin{tabular}{r|llllllll}\n",
       " X & Sex & Wr.Hnd & NW.Hnd & Pulse & Smoke & Height & Age\\\\\n",
       " <int> & <fct> & <dbl> & <dbl> & <int> & <fct> & <dbl> & <dbl>\\\\\n",
       "\\hline\n",
       "\t  1 & Male   & 21.4 & 21.0 & 63 & Never & 180.00 & 19.000\\\\\n",
       "\t  2 & Male   & 19.5 & 19.4 & 79 & Never & 165.00 & 18.083\\\\\n",
       "\t  3 & Female & 16.3 & 16.2 & 44 & Regul & 152.40 & 23.500\\\\\n",
       "\t  4 & Female & 15.9 & 16.5 & 99 & Never & 167.64 & 17.333\\\\\n",
       "\t  5 & Male   & 19.3 & 19.4 & 55 & Never & 180.34 & 19.833\\\\\n",
       "\t  6 & Male   & 18.5 & 18.5 & 48 & Never & 167.00 & 22.333\\\\\n",
       "\t  7 & Female & 17.5 & 17.0 & 85 & Heavy & 163.00 & 17.667\\\\\n",
       "\t  8 & Male   & 19.8 & 20.0 & NA & Never & 180.00 & 17.417\\\\\n",
       "\t  9 & Female & 13.0 & 12.5 & 77 & Never & 165.00 & 18.167\\\\\n",
       "\t 10 & Female & 18.5 & 18.0 & 75 & Never & 173.00 & 18.250\\\\\n",
       "\\end{tabular}\n"
      ],
      "text/markdown": [
       "\n",
       "A data.frame: 10 × 8\n",
       "\n",
       "| X &lt;int&gt; | Sex &lt;fct&gt; | Wr.Hnd &lt;dbl&gt; | NW.Hnd &lt;dbl&gt; | Pulse &lt;int&gt; | Smoke &lt;fct&gt; | Height &lt;dbl&gt; | Age &lt;dbl&gt; |\n",
       "|---|---|---|---|---|---|---|---|\n",
       "|  1 | Male   | 21.4 | 21.0 | 63 | Never | 180.00 | 19.000 |\n",
       "|  2 | Male   | 19.5 | 19.4 | 79 | Never | 165.00 | 18.083 |\n",
       "|  3 | Female | 16.3 | 16.2 | 44 | Regul | 152.40 | 23.500 |\n",
       "|  4 | Female | 15.9 | 16.5 | 99 | Never | 167.64 | 17.333 |\n",
       "|  5 | Male   | 19.3 | 19.4 | 55 | Never | 180.34 | 19.833 |\n",
       "|  6 | Male   | 18.5 | 18.5 | 48 | Never | 167.00 | 22.333 |\n",
       "|  7 | Female | 17.5 | 17.0 | 85 | Heavy | 163.00 | 17.667 |\n",
       "|  8 | Male   | 19.8 | 20.0 | NA | Never | 180.00 | 17.417 |\n",
       "|  9 | Female | 13.0 | 12.5 | 77 | Never | 165.00 | 18.167 |\n",
       "| 10 | Female | 18.5 | 18.0 | 75 | Never | 173.00 | 18.250 |\n",
       "\n"
      ],
      "text/plain": [
       "   X  Sex    Wr.Hnd NW.Hnd Pulse Smoke Height Age   \n",
       "1   1 Male   21.4   21.0   63    Never 180.00 19.000\n",
       "2   2 Male   19.5   19.4   79    Never 165.00 18.083\n",
       "3   3 Female 16.3   16.2   44    Regul 152.40 23.500\n",
       "4   4 Female 15.9   16.5   99    Never 167.64 17.333\n",
       "5   5 Male   19.3   19.4   55    Never 180.34 19.833\n",
       "6   6 Male   18.5   18.5   48    Never 167.00 22.333\n",
       "7   7 Female 17.5   17.0   85    Heavy 163.00 17.667\n",
       "8   8 Male   19.8   20.0   NA    Never 180.00 17.417\n",
       "9   9 Female 13.0   12.5   77    Never 165.00 18.167\n",
       "10 10 Female 18.5   18.0   75    Never 173.00 18.250"
      ]
     },
     "metadata": {},
     "output_type": "display_data"
    }
   ],
   "source": [
    "data <- read.csv(\"https://raw.githubusercontent.com/ly129/MiCM/master/sample.csv\", header = TRUE)\n",
    "head(data, 10)"
   ]
  },
  {
   "cell_type": "code",
   "execution_count": 7,
   "metadata": {},
   "outputs": [
    {
     "data": {
      "text/plain": [
       "       X              Sex         Wr.Hnd          NW.Hnd          Pulse       \n",
       " Min.   :  1.00   Female:47   Min.   :13.00   Min.   :12.50   Min.   : 40.00  \n",
       " 1st Qu.: 25.75   Male  :53   1st Qu.:17.50   1st Qu.:17.45   1st Qu.: 50.25  \n",
       " Median : 50.50               Median :18.50   Median :18.50   Median : 71.50  \n",
       " Mean   : 50.50               Mean   :18.43   Mean   :18.39   Mean   : 69.90  \n",
       " 3rd Qu.: 75.25               3rd Qu.:19.50   3rd Qu.:19.52   3rd Qu.: 84.75  \n",
       " Max.   :100.00               Max.   :23.20   Max.   :23.30   Max.   :104.00  \n",
       "                                                              NA's   :6       \n",
       "   Smoke        Height           Age       \n",
       " Heavy: 6   Min.   :152.0   Min.   :16.92  \n",
       " Never:79   1st Qu.:166.4   1st Qu.:17.58  \n",
       " Occas: 5   Median :170.2   Median :18.46  \n",
       " Regul:10   Mean   :171.8   Mean   :20.97  \n",
       "            3rd Qu.:179.1   3rd Qu.:20.21  \n",
       "            Max.   :200.0   Max.   :73.00  \n",
       "            NA's   :13                     "
      ]
     },
     "metadata": {},
     "output_type": "display_data"
    }
   ],
   "source": [
    "summary(data)"
   ]
  },
  {
   "cell_type": "markdown",
   "metadata": {},
   "source": [
    "#### a1. Calculate the mean writing hand span of all individuals\n",
    "    mean(x, trim = 0, na.rm = FALSE, ...)"
   ]
  },
  {
   "cell_type": "code",
   "execution_count": null,
   "metadata": {},
   "outputs": [],
   "source": []
  },
  {
   "cell_type": "markdown",
   "metadata": {},
   "source": [
    "#### a2. Calculate the mean height of all individuals, exclude the missing values"
   ]
  },
  {
   "cell_type": "code",
   "execution_count": null,
   "metadata": {},
   "outputs": [],
   "source": []
  },
  {
   "cell_type": "markdown",
   "metadata": {},
   "source": [
    "#### a3. Calculate the mean of all continuous variables\n",
    "    apply(X, MARGIN, FUN, ...)"
   ]
  },
  {
   "cell_type": "code",
   "execution_count": 8,
   "metadata": {},
   "outputs": [
    {
     "data": {
      "text/html": [
       "<dl class=dl-horizontal>\n",
       "\t<dt>Wr.Hnd</dt>\n",
       "\t\t<dd>18.43</dd>\n",
       "\t<dt>NW.Hnd</dt>\n",
       "\t\t<dd>18.391</dd>\n",
       "\t<dt>Pulse</dt>\n",
       "\t\t<dd>69.9042553191489</dd>\n",
       "\t<dt>Height</dt>\n",
       "\t\t<dd>171.784597701149</dd>\n",
       "\t<dt>Age</dt>\n",
       "\t\t<dd>20.96503</dd>\n",
       "</dl>\n"
      ],
      "text/latex": [
       "\\begin{description*}\n",
       "\\item[Wr.Hnd] 18.43\n",
       "\\item[NW.Hnd] 18.391\n",
       "\\item[Pulse] 69.9042553191489\n",
       "\\item[Height] 171.784597701149\n",
       "\\item[Age] 20.96503\n",
       "\\end{description*}\n"
      ],
      "text/markdown": [
       "Wr.Hnd\n",
       ":   18.43NW.Hnd\n",
       ":   18.391Pulse\n",
       ":   69.9042553191489Height\n",
       ":   171.784597701149Age\n",
       ":   20.96503\n",
       "\n"
      ],
      "text/plain": [
       "   Wr.Hnd    NW.Hnd     Pulse    Height       Age \n",
       " 18.43000  18.39100  69.90426 171.78460  20.96503 "
      ]
     },
     "metadata": {},
     "output_type": "display_data"
    }
   ],
   "source": [
    "cts <- data[ , c(\"Wr.Hnd\", \"NW.Hnd\", \"Pulse\", \"Height\", \"Age\")]\n",
    "apply(X = cts, MARGIN = 2, FUN = mean, na.rm = TRUE)"
   ]
  },
  {
   "cell_type": "markdown",
   "metadata": {},
   "source": [
    "#### b1. Calculate the count/proportion of males and females\n",
    "    table(...,\n",
    "      exclude = if (useNA == \"no\") c(NA, NaN),\n",
    "      useNA = c(\"no\", \"ifany\", \"always\"),\n",
    "      dnn = list.names(...), deparse.level = 1)\n",
    "\n",
    "    prop.table()"
   ]
  },
  {
   "cell_type": "code",
   "execution_count": null,
   "metadata": {},
   "outputs": [],
   "source": []
  },
  {
   "cell_type": "markdown",
   "metadata": {},
   "source": [
    "#### b2. Calculate the count of each smoking status group"
   ]
  },
  {
   "cell_type": "code",
   "execution_count": null,
   "metadata": {},
   "outputs": [],
   "source": []
  },
  {
   "cell_type": "markdown",
   "metadata": {},
   "source": [
    "#### b3. Calculate the count of males and females in each smoking status group"
   ]
  },
  {
   "cell_type": "code",
   "execution_count": 9,
   "metadata": {},
   "outputs": [
    {
     "data": {
      "text/plain": [
       "        Smoke\n",
       "Sex      Heavy Never Occas Regul\n",
       "  Female     3    40     3     1\n",
       "  Male       3    39     2     9"
      ]
     },
     "metadata": {},
     "output_type": "display_data"
    }
   ],
   "source": [
    "table(data[, c(\"Sex\", \"Smoke\")])"
   ]
  },
  {
   "cell_type": "code",
   "execution_count": 10,
   "metadata": {},
   "outputs": [
    {
     "data": {
      "text/plain": [
       "        \n",
       "         Heavy Never Occas Regul\n",
       "  Female     3    40     3     1\n",
       "  Male       3    39     2     9"
      ]
     },
     "metadata": {},
     "output_type": "display_data"
    }
   ],
   "source": [
    "table(data$Sex, data$Smoke)"
   ]
  },
  {
   "cell_type": "markdown",
   "metadata": {},
   "source": [
    "#### c1. Calculate the standare deviation of writing hand span of females"
   ]
  },
  {
   "cell_type": "code",
   "execution_count": 11,
   "metadata": {},
   "outputs": [
    {
     "data": {
      "text/html": [
       "<table>\n",
       "<caption>A data.frame: 2 × 2</caption>\n",
       "<thead>\n",
       "\t<tr><th scope=col>Sex</th><th scope=col>Wr.Hnd</th></tr>\n",
       "\t<tr><th scope=col>&lt;fct&gt;</th><th scope=col>&lt;dbl&gt;</th></tr>\n",
       "</thead>\n",
       "<tbody>\n",
       "\t<tr><td>Female</td><td>1.519908</td></tr>\n",
       "\t<tr><td>Male  </td><td>1.712066</td></tr>\n",
       "</tbody>\n",
       "</table>\n"
      ],
      "text/latex": [
       "A data.frame: 2 × 2\n",
       "\\begin{tabular}{r|ll}\n",
       " Sex & Wr.Hnd\\\\\n",
       " <fct> & <dbl>\\\\\n",
       "\\hline\n",
       "\t Female & 1.519908\\\\\n",
       "\t Male   & 1.712066\\\\\n",
       "\\end{tabular}\n"
      ],
      "text/markdown": [
       "\n",
       "A data.frame: 2 × 2\n",
       "\n",
       "| Sex &lt;fct&gt; | Wr.Hnd &lt;dbl&gt; |\n",
       "|---|---|\n",
       "| Female | 1.519908 |\n",
       "| Male   | 1.712066 |\n",
       "\n"
      ],
      "text/plain": [
       "  Sex    Wr.Hnd  \n",
       "1 Female 1.519908\n",
       "2 Male   1.712066"
      ]
     },
     "metadata": {},
     "output_type": "display_data"
    }
   ],
   "source": [
    "aggregate(Wr.Hnd~Sex, data = data, FUN = sd)"
   ]
  },
  {
   "cell_type": "code",
   "execution_count": 12,
   "metadata": {},
   "outputs": [
    {
     "data": {
      "text/html": [
       "<table>\n",
       "<caption>A data.frame: 2 × 2</caption>\n",
       "<thead>\n",
       "\t<tr><th scope=col>Group.1</th><th scope=col>x</th></tr>\n",
       "\t<tr><th scope=col>&lt;fct&gt;</th><th scope=col>&lt;dbl&gt;</th></tr>\n",
       "</thead>\n",
       "<tbody>\n",
       "\t<tr><td>Female</td><td>1.519908</td></tr>\n",
       "\t<tr><td>Male  </td><td>1.712066</td></tr>\n",
       "</tbody>\n",
       "</table>\n"
      ],
      "text/latex": [
       "A data.frame: 2 × 2\n",
       "\\begin{tabular}{r|ll}\n",
       " Group.1 & x\\\\\n",
       " <fct> & <dbl>\\\\\n",
       "\\hline\n",
       "\t Female & 1.519908\\\\\n",
       "\t Male   & 1.712066\\\\\n",
       "\\end{tabular}\n"
      ],
      "text/markdown": [
       "\n",
       "A data.frame: 2 × 2\n",
       "\n",
       "| Group.1 &lt;fct&gt; | x &lt;dbl&gt; |\n",
       "|---|---|\n",
       "| Female | 1.519908 |\n",
       "| Male   | 1.712066 |\n",
       "\n"
      ],
      "text/plain": [
       "  Group.1 x       \n",
       "1 Female  1.519908\n",
       "2 Male    1.712066"
      ]
     },
     "metadata": {},
     "output_type": "display_data"
    }
   ],
   "source": [
    "aggregate(data$Wr.Hnd, by = list(data$Sex), FUN = sd)"
   ]
  },
  {
   "cell_type": "code",
   "execution_count": 13,
   "metadata": {},
   "outputs": [
    {
     "data": {
      "text/plain": [
       ": Female\n",
       "[1] 1.519908\n",
       "------------------------------------------------------------ \n",
       ": Male\n",
       "[1] 1.712066"
      ]
     },
     "metadata": {},
     "output_type": "display_data"
    }
   ],
   "source": [
    "by(data = data$Wr.Hnd, INDICES = list(data$Sex), FUN = sd)"
   ]
  },
  {
   "cell_type": "code",
   "execution_count": 14,
   "metadata": {},
   "outputs": [
    {
     "data": {
      "text/html": [
       "<dl class=dl-horizontal>\n",
       "\t<dt>Female</dt>\n",
       "\t\t<dd>1.51990797715501</dd>\n",
       "\t<dt>Male</dt>\n",
       "\t\t<dd>1.71206552443005</dd>\n",
       "</dl>\n"
      ],
      "text/latex": [
       "\\begin{description*}\n",
       "\\item[Female] 1.51990797715501\n",
       "\\item[Male] 1.71206552443005\n",
       "\\end{description*}\n"
      ],
      "text/markdown": [
       "Female\n",
       ":   1.51990797715501Male\n",
       ":   1.71206552443005\n",
       "\n"
      ],
      "text/plain": [
       "  Female     Male \n",
       "1.519908 1.712066 "
      ]
     },
     "metadata": {},
     "output_type": "display_data"
    }
   ],
   "source": [
    "tapply(X = data$Wr.Hnd, INDEX = list(data$Sex), FUN = sd)"
   ]
  },
  {
   "cell_type": "markdown",
   "metadata": {},
   "source": [
    "##### aggregate( ), by( ) and tapply( ) are all connected."
   ]
  },
  {
   "cell_type": "markdown",
   "metadata": {},
   "source": [
    "#### c2. Calculate the standard deviation of writing hand span of all different gender-smoking groups"
   ]
  },
  {
   "cell_type": "code",
   "execution_count": 15,
   "metadata": {},
   "outputs": [
    {
     "data": {
      "text/html": [
       "<table>\n",
       "<caption>A data.frame: 8 × 3</caption>\n",
       "<thead>\n",
       "\t<tr><th scope=col>Sex</th><th scope=col>Smoke</th><th scope=col>Wr.Hnd</th></tr>\n",
       "\t<tr><th scope=col>&lt;fct&gt;</th><th scope=col>&lt;fct&gt;</th><th scope=col>&lt;int&gt;</th></tr>\n",
       "</thead>\n",
       "<tbody>\n",
       "\t<tr><td>Female</td><td>Heavy</td><td> 3</td></tr>\n",
       "\t<tr><td>Male  </td><td>Heavy</td><td> 3</td></tr>\n",
       "\t<tr><td>Female</td><td>Never</td><td>40</td></tr>\n",
       "\t<tr><td>Male  </td><td>Never</td><td>39</td></tr>\n",
       "\t<tr><td>Female</td><td>Occas</td><td> 3</td></tr>\n",
       "\t<tr><td>Male  </td><td>Occas</td><td> 2</td></tr>\n",
       "\t<tr><td>Female</td><td>Regul</td><td> 1</td></tr>\n",
       "\t<tr><td>Male  </td><td>Regul</td><td> 9</td></tr>\n",
       "</tbody>\n",
       "</table>\n"
      ],
      "text/latex": [
       "A data.frame: 8 × 3\n",
       "\\begin{tabular}{r|lll}\n",
       " Sex & Smoke & Wr.Hnd\\\\\n",
       " <fct> & <fct> & <int>\\\\\n",
       "\\hline\n",
       "\t Female & Heavy &  3\\\\\n",
       "\t Male   & Heavy &  3\\\\\n",
       "\t Female & Never & 40\\\\\n",
       "\t Male   & Never & 39\\\\\n",
       "\t Female & Occas &  3\\\\\n",
       "\t Male   & Occas &  2\\\\\n",
       "\t Female & Regul &  1\\\\\n",
       "\t Male   & Regul &  9\\\\\n",
       "\\end{tabular}\n"
      ],
      "text/markdown": [
       "\n",
       "A data.frame: 8 × 3\n",
       "\n",
       "| Sex &lt;fct&gt; | Smoke &lt;fct&gt; | Wr.Hnd &lt;int&gt; |\n",
       "|---|---|---|\n",
       "| Female | Heavy |  3 |\n",
       "| Male   | Heavy |  3 |\n",
       "| Female | Never | 40 |\n",
       "| Male   | Never | 39 |\n",
       "| Female | Occas |  3 |\n",
       "| Male   | Occas |  2 |\n",
       "| Female | Regul |  1 |\n",
       "| Male   | Regul |  9 |\n",
       "\n"
      ],
      "text/plain": [
       "  Sex    Smoke Wr.Hnd\n",
       "1 Female Heavy  3    \n",
       "2 Male   Heavy  3    \n",
       "3 Female Never 40    \n",
       "4 Male   Never 39    \n",
       "5 Female Occas  3    \n",
       "6 Male   Occas  2    \n",
       "7 Female Regul  1    \n",
       "8 Male   Regul  9    "
      ]
     },
     "metadata": {},
     "output_type": "display_data"
    }
   ],
   "source": [
    "aggregate(Wr.Hnd~Sex + Smoke, data = data, FUN = length)"
   ]
  },
  {
   "cell_type": "markdown",
   "metadata": {},
   "source": [
    "#### d1. Categorize 'Age' - make a new binary variable 'Young'\n",
    "    ifelse(test, yes, no)"
   ]
  },
  {
   "cell_type": "code",
   "execution_count": 16,
   "metadata": {},
   "outputs": [
    {
     "data": {
      "text/html": [
       "<table>\n",
       "<caption>A data.frame: 6 × 9</caption>\n",
       "<thead>\n",
       "\t<tr><th scope=col>X</th><th scope=col>Sex</th><th scope=col>Wr.Hnd</th><th scope=col>NW.Hnd</th><th scope=col>Pulse</th><th scope=col>Smoke</th><th scope=col>Height</th><th scope=col>Age</th><th scope=col>Young</th></tr>\n",
       "\t<tr><th scope=col>&lt;int&gt;</th><th scope=col>&lt;fct&gt;</th><th scope=col>&lt;dbl&gt;</th><th scope=col>&lt;dbl&gt;</th><th scope=col>&lt;int&gt;</th><th scope=col>&lt;fct&gt;</th><th scope=col>&lt;dbl&gt;</th><th scope=col>&lt;dbl&gt;</th><th scope=col>&lt;chr&gt;</th></tr>\n",
       "</thead>\n",
       "<tbody>\n",
       "\t<tr><td>1</td><td>Male  </td><td>21.4</td><td>21.0</td><td>63</td><td>Never</td><td>180.00</td><td>19.000</td><td>Yes</td></tr>\n",
       "\t<tr><td>2</td><td>Male  </td><td>19.5</td><td>19.4</td><td>79</td><td>Never</td><td>165.00</td><td>18.083</td><td>Yes</td></tr>\n",
       "\t<tr><td>3</td><td>Female</td><td>16.3</td><td>16.2</td><td>44</td><td>Regul</td><td>152.40</td><td>23.500</td><td>No </td></tr>\n",
       "\t<tr><td>4</td><td>Female</td><td>15.9</td><td>16.5</td><td>99</td><td>Never</td><td>167.64</td><td>17.333</td><td>Yes</td></tr>\n",
       "\t<tr><td>5</td><td>Male  </td><td>19.3</td><td>19.4</td><td>55</td><td>Never</td><td>180.34</td><td>19.833</td><td>Yes</td></tr>\n",
       "\t<tr><td>6</td><td>Male  </td><td>18.5</td><td>18.5</td><td>48</td><td>Never</td><td>167.00</td><td>22.333</td><td>No </td></tr>\n",
       "</tbody>\n",
       "</table>\n"
      ],
      "text/latex": [
       "A data.frame: 6 × 9\n",
       "\\begin{tabular}{r|lllllllll}\n",
       " X & Sex & Wr.Hnd & NW.Hnd & Pulse & Smoke & Height & Age & Young\\\\\n",
       " <int> & <fct> & <dbl> & <dbl> & <int> & <fct> & <dbl> & <dbl> & <chr>\\\\\n",
       "\\hline\n",
       "\t 1 & Male   & 21.4 & 21.0 & 63 & Never & 180.00 & 19.000 & Yes\\\\\n",
       "\t 2 & Male   & 19.5 & 19.4 & 79 & Never & 165.00 & 18.083 & Yes\\\\\n",
       "\t 3 & Female & 16.3 & 16.2 & 44 & Regul & 152.40 & 23.500 & No \\\\\n",
       "\t 4 & Female & 15.9 & 16.5 & 99 & Never & 167.64 & 17.333 & Yes\\\\\n",
       "\t 5 & Male   & 19.3 & 19.4 & 55 & Never & 180.34 & 19.833 & Yes\\\\\n",
       "\t 6 & Male   & 18.5 & 18.5 & 48 & Never & 167.00 & 22.333 & No \\\\\n",
       "\\end{tabular}\n"
      ],
      "text/markdown": [
       "\n",
       "A data.frame: 6 × 9\n",
       "\n",
       "| X &lt;int&gt; | Sex &lt;fct&gt; | Wr.Hnd &lt;dbl&gt; | NW.Hnd &lt;dbl&gt; | Pulse &lt;int&gt; | Smoke &lt;fct&gt; | Height &lt;dbl&gt; | Age &lt;dbl&gt; | Young &lt;chr&gt; |\n",
       "|---|---|---|---|---|---|---|---|---|\n",
       "| 1 | Male   | 21.4 | 21.0 | 63 | Never | 180.00 | 19.000 | Yes |\n",
       "| 2 | Male   | 19.5 | 19.4 | 79 | Never | 165.00 | 18.083 | Yes |\n",
       "| 3 | Female | 16.3 | 16.2 | 44 | Regul | 152.40 | 23.500 | No  |\n",
       "| 4 | Female | 15.9 | 16.5 | 99 | Never | 167.64 | 17.333 | Yes |\n",
       "| 5 | Male   | 19.3 | 19.4 | 55 | Never | 180.34 | 19.833 | Yes |\n",
       "| 6 | Male   | 18.5 | 18.5 | 48 | Never | 167.00 | 22.333 | No  |\n",
       "\n"
      ],
      "text/plain": [
       "  X Sex    Wr.Hnd NW.Hnd Pulse Smoke Height Age    Young\n",
       "1 1 Male   21.4   21.0   63    Never 180.00 19.000 Yes  \n",
       "2 2 Male   19.5   19.4   79    Never 165.00 18.083 Yes  \n",
       "3 3 Female 16.3   16.2   44    Regul 152.40 23.500 No   \n",
       "4 4 Female 15.9   16.5   99    Never 167.64 17.333 Yes  \n",
       "5 5 Male   19.3   19.4   55    Never 180.34 19.833 Yes  \n",
       "6 6 Male   18.5   18.5   48    Never 167.00 22.333 No   "
      ]
     },
     "metadata": {},
     "output_type": "display_data"
    }
   ],
   "source": [
    "old.age <- 20\n",
    "data$Young <- ifelse(data$Age >= old.age, \"No\", \"Yes\")\n",
    "head(data)"
   ]
  },
  {
   "cell_type": "markdown",
   "metadata": {},
   "source": [
    "##### R has if (test) {opt1} else {opt2}, what is the advantage of ifelse( )?"
   ]
  },
  {
   "cell_type": "code",
   "execution_count": 17,
   "metadata": {},
   "outputs": [
    {
     "name": "stderr",
     "output_type": "stream",
     "text": [
      "Warning message in if (data$Age >= 28) {:\n",
      "“the condition has length > 1 and only the first element will be used”"
     ]
    }
   ],
   "source": [
    "if (data$Age >= 28) {\n",
    "    data$Young2 = \"No\"\n",
    "} else {\n",
    "    data$Young2 = \"Yes\"\n",
    "}"
   ]
  },
  {
   "cell_type": "code",
   "execution_count": 18,
   "metadata": {},
   "outputs": [],
   "source": [
    "# Delete Young2\n",
    "data <- data[, -10]"
   ]
  },
  {
   "cell_type": "markdown",
   "metadata": {},
   "source": [
    "##### ifelse( ) is vectorized!!!\n",
    "#### d2. Categorize 'Wr.Hnd' into 5 groups - make a new categorical variable with 5 levels\n",
    "    1. =< 16: Stephen Curry\n",
    "    2. 16~18: Drake\n",
    "    3. 18~20: Fred VanVleet\n",
    "    4. 20~22: Jeremy Lin\n",
    "    5. >  22: Kawhi Leonard"
   ]
  },
  {
   "cell_type": "code",
   "execution_count": 19,
   "metadata": {},
   "outputs": [
    {
     "data": {
      "text/html": [
       "<table>\n",
       "<caption>A data.frame: 6 × 10</caption>\n",
       "<thead>\n",
       "\t<tr><th scope=col>X</th><th scope=col>Sex</th><th scope=col>Wr.Hnd</th><th scope=col>NW.Hnd</th><th scope=col>Pulse</th><th scope=col>Smoke</th><th scope=col>Height</th><th scope=col>Age</th><th scope=col>Young</th><th scope=col>Hnd.group</th></tr>\n",
       "\t<tr><th scope=col>&lt;int&gt;</th><th scope=col>&lt;fct&gt;</th><th scope=col>&lt;dbl&gt;</th><th scope=col>&lt;dbl&gt;</th><th scope=col>&lt;int&gt;</th><th scope=col>&lt;fct&gt;</th><th scope=col>&lt;dbl&gt;</th><th scope=col>&lt;dbl&gt;</th><th scope=col>&lt;chr&gt;</th><th scope=col>&lt;fct&gt;</th></tr>\n",
       "</thead>\n",
       "<tbody>\n",
       "\t<tr><td>1</td><td>Male  </td><td>21.4</td><td>21.0</td><td>63</td><td>Never</td><td>180.00</td><td>19.000</td><td>Yes</td><td>(20,22]</td></tr>\n",
       "\t<tr><td>2</td><td>Male  </td><td>19.5</td><td>19.4</td><td>79</td><td>Never</td><td>165.00</td><td>18.083</td><td>Yes</td><td>(18,20]</td></tr>\n",
       "\t<tr><td>3</td><td>Female</td><td>16.3</td><td>16.2</td><td>44</td><td>Regul</td><td>152.40</td><td>23.500</td><td>No </td><td>(16,18]</td></tr>\n",
       "\t<tr><td>4</td><td>Female</td><td>15.9</td><td>16.5</td><td>99</td><td>Never</td><td>167.64</td><td>17.333</td><td>Yes</td><td>(0,16] </td></tr>\n",
       "\t<tr><td>5</td><td>Male  </td><td>19.3</td><td>19.4</td><td>55</td><td>Never</td><td>180.34</td><td>19.833</td><td>Yes</td><td>(18,20]</td></tr>\n",
       "\t<tr><td>6</td><td>Male  </td><td>18.5</td><td>18.5</td><td>48</td><td>Never</td><td>167.00</td><td>22.333</td><td>No </td><td>(18,20]</td></tr>\n",
       "</tbody>\n",
       "</table>\n"
      ],
      "text/latex": [
       "A data.frame: 6 × 10\n",
       "\\begin{tabular}{r|llllllllll}\n",
       " X & Sex & Wr.Hnd & NW.Hnd & Pulse & Smoke & Height & Age & Young & Hnd.group\\\\\n",
       " <int> & <fct> & <dbl> & <dbl> & <int> & <fct> & <dbl> & <dbl> & <chr> & <fct>\\\\\n",
       "\\hline\n",
       "\t 1 & Male   & 21.4 & 21.0 & 63 & Never & 180.00 & 19.000 & Yes & (20,22{]}\\\\\n",
       "\t 2 & Male   & 19.5 & 19.4 & 79 & Never & 165.00 & 18.083 & Yes & (18,20{]}\\\\\n",
       "\t 3 & Female & 16.3 & 16.2 & 44 & Regul & 152.40 & 23.500 & No  & (16,18{]}\\\\\n",
       "\t 4 & Female & 15.9 & 16.5 & 99 & Never & 167.64 & 17.333 & Yes & (0,16{]} \\\\\n",
       "\t 5 & Male   & 19.3 & 19.4 & 55 & Never & 180.34 & 19.833 & Yes & (18,20{]}\\\\\n",
       "\t 6 & Male   & 18.5 & 18.5 & 48 & Never & 167.00 & 22.333 & No  & (18,20{]}\\\\\n",
       "\\end{tabular}\n"
      ],
      "text/markdown": [
       "\n",
       "A data.frame: 6 × 10\n",
       "\n",
       "| X &lt;int&gt; | Sex &lt;fct&gt; | Wr.Hnd &lt;dbl&gt; | NW.Hnd &lt;dbl&gt; | Pulse &lt;int&gt; | Smoke &lt;fct&gt; | Height &lt;dbl&gt; | Age &lt;dbl&gt; | Young &lt;chr&gt; | Hnd.group &lt;fct&gt; |\n",
       "|---|---|---|---|---|---|---|---|---|---|\n",
       "| 1 | Male   | 21.4 | 21.0 | 63 | Never | 180.00 | 19.000 | Yes | (20,22] |\n",
       "| 2 | Male   | 19.5 | 19.4 | 79 | Never | 165.00 | 18.083 | Yes | (18,20] |\n",
       "| 3 | Female | 16.3 | 16.2 | 44 | Regul | 152.40 | 23.500 | No  | (16,18] |\n",
       "| 4 | Female | 15.9 | 16.5 | 99 | Never | 167.64 | 17.333 | Yes | (0,16]  |\n",
       "| 5 | Male   | 19.3 | 19.4 | 55 | Never | 180.34 | 19.833 | Yes | (18,20] |\n",
       "| 6 | Male   | 18.5 | 18.5 | 48 | Never | 167.00 | 22.333 | No  | (18,20] |\n",
       "\n"
      ],
      "text/plain": [
       "  X Sex    Wr.Hnd NW.Hnd Pulse Smoke Height Age    Young Hnd.group\n",
       "1 1 Male   21.4   21.0   63    Never 180.00 19.000 Yes   (20,22]  \n",
       "2 2 Male   19.5   19.4   79    Never 165.00 18.083 Yes   (18,20]  \n",
       "3 3 Female 16.3   16.2   44    Regul 152.40 23.500 No    (16,18]  \n",
       "4 4 Female 15.9   16.5   99    Never 167.64 17.333 Yes   (0,16]   \n",
       "5 5 Male   19.3   19.4   55    Never 180.34 19.833 Yes   (18,20]  \n",
       "6 6 Male   18.5   18.5   48    Never 167.00 22.333 No    (18,20]  "
      ]
     },
     "metadata": {},
     "output_type": "display_data"
    }
   ],
   "source": [
    "cut.points <- c(0, 16, 18, 20, 22, Inf)\n",
    "data$Hnd.group <- cut(data$Wr.Hnd, breaks = cut.points, right = TRUE)\n",
    "head(data)"
   ]
  },
  {
   "cell_type": "code",
   "execution_count": 20,
   "metadata": {},
   "outputs": [
    {
     "data": {
      "text/html": [
       "<table>\n",
       "<caption>A data.frame: 6 × 10</caption>\n",
       "<thead>\n",
       "\t<tr><th scope=col>X</th><th scope=col>Sex</th><th scope=col>Wr.Hnd</th><th scope=col>NW.Hnd</th><th scope=col>Pulse</th><th scope=col>Smoke</th><th scope=col>Height</th><th scope=col>Age</th><th scope=col>Young</th><th scope=col>Hnd.group</th></tr>\n",
       "\t<tr><th scope=col>&lt;int&gt;</th><th scope=col>&lt;fct&gt;</th><th scope=col>&lt;dbl&gt;</th><th scope=col>&lt;dbl&gt;</th><th scope=col>&lt;int&gt;</th><th scope=col>&lt;fct&gt;</th><th scope=col>&lt;dbl&gt;</th><th scope=col>&lt;dbl&gt;</th><th scope=col>&lt;chr&gt;</th><th scope=col>&lt;int&gt;</th></tr>\n",
       "</thead>\n",
       "<tbody>\n",
       "\t<tr><td>1</td><td>Male  </td><td>21.4</td><td>21.0</td><td>63</td><td>Never</td><td>180.00</td><td>19.000</td><td>Yes</td><td>4</td></tr>\n",
       "\t<tr><td>2</td><td>Male  </td><td>19.5</td><td>19.4</td><td>79</td><td>Never</td><td>165.00</td><td>18.083</td><td>Yes</td><td>3</td></tr>\n",
       "\t<tr><td>3</td><td>Female</td><td>16.3</td><td>16.2</td><td>44</td><td>Regul</td><td>152.40</td><td>23.500</td><td>No </td><td>2</td></tr>\n",
       "\t<tr><td>4</td><td>Female</td><td>15.9</td><td>16.5</td><td>99</td><td>Never</td><td>167.64</td><td>17.333</td><td>Yes</td><td>1</td></tr>\n",
       "\t<tr><td>5</td><td>Male  </td><td>19.3</td><td>19.4</td><td>55</td><td>Never</td><td>180.34</td><td>19.833</td><td>Yes</td><td>3</td></tr>\n",
       "\t<tr><td>6</td><td>Male  </td><td>18.5</td><td>18.5</td><td>48</td><td>Never</td><td>167.00</td><td>22.333</td><td>No </td><td>3</td></tr>\n",
       "</tbody>\n",
       "</table>\n"
      ],
      "text/latex": [
       "A data.frame: 6 × 10\n",
       "\\begin{tabular}{r|llllllllll}\n",
       " X & Sex & Wr.Hnd & NW.Hnd & Pulse & Smoke & Height & Age & Young & Hnd.group\\\\\n",
       " <int> & <fct> & <dbl> & <dbl> & <int> & <fct> & <dbl> & <dbl> & <chr> & <int>\\\\\n",
       "\\hline\n",
       "\t 1 & Male   & 21.4 & 21.0 & 63 & Never & 180.00 & 19.000 & Yes & 4\\\\\n",
       "\t 2 & Male   & 19.5 & 19.4 & 79 & Never & 165.00 & 18.083 & Yes & 3\\\\\n",
       "\t 3 & Female & 16.3 & 16.2 & 44 & Regul & 152.40 & 23.500 & No  & 2\\\\\n",
       "\t 4 & Female & 15.9 & 16.5 & 99 & Never & 167.64 & 17.333 & Yes & 1\\\\\n",
       "\t 5 & Male   & 19.3 & 19.4 & 55 & Never & 180.34 & 19.833 & Yes & 3\\\\\n",
       "\t 6 & Male   & 18.5 & 18.5 & 48 & Never & 167.00 & 22.333 & No  & 3\\\\\n",
       "\\end{tabular}\n"
      ],
      "text/markdown": [
       "\n",
       "A data.frame: 6 × 10\n",
       "\n",
       "| X &lt;int&gt; | Sex &lt;fct&gt; | Wr.Hnd &lt;dbl&gt; | NW.Hnd &lt;dbl&gt; | Pulse &lt;int&gt; | Smoke &lt;fct&gt; | Height &lt;dbl&gt; | Age &lt;dbl&gt; | Young &lt;chr&gt; | Hnd.group &lt;int&gt; |\n",
       "|---|---|---|---|---|---|---|---|---|---|\n",
       "| 1 | Male   | 21.4 | 21.0 | 63 | Never | 180.00 | 19.000 | Yes | 4 |\n",
       "| 2 | Male   | 19.5 | 19.4 | 79 | Never | 165.00 | 18.083 | Yes | 3 |\n",
       "| 3 | Female | 16.3 | 16.2 | 44 | Regul | 152.40 | 23.500 | No  | 2 |\n",
       "| 4 | Female | 15.9 | 16.5 | 99 | Never | 167.64 | 17.333 | Yes | 1 |\n",
       "| 5 | Male   | 19.3 | 19.4 | 55 | Never | 180.34 | 19.833 | Yes | 3 |\n",
       "| 6 | Male   | 18.5 | 18.5 | 48 | Never | 167.00 | 22.333 | No  | 3 |\n",
       "\n"
      ],
      "text/plain": [
       "  X Sex    Wr.Hnd NW.Hnd Pulse Smoke Height Age    Young Hnd.group\n",
       "1 1 Male   21.4   21.0   63    Never 180.00 19.000 Yes   4        \n",
       "2 2 Male   19.5   19.4   79    Never 165.00 18.083 Yes   3        \n",
       "3 3 Female 16.3   16.2   44    Regul 152.40 23.500 No    2        \n",
       "4 4 Female 15.9   16.5   99    Never 167.64 17.333 Yes   1        \n",
       "5 5 Male   19.3   19.4   55    Never 180.34 19.833 Yes   3        \n",
       "6 6 Male   18.5   18.5   48    Never 167.00 22.333 No    3        "
      ]
     },
     "metadata": {},
     "output_type": "display_data"
    }
   ],
   "source": [
    "data$Hnd.group <- cut(data$Wr.Hnd, breaks = cut.points, labels = FALSE, right = TRUE)\n",
    "head(data)"
   ]
  },
  {
   "cell_type": "code",
   "execution_count": 21,
   "metadata": {},
   "outputs": [
    {
     "data": {
      "text/html": [
       "<table>\n",
       "<caption>A data.frame: 6 × 10</caption>\n",
       "<thead>\n",
       "\t<tr><th scope=col>X</th><th scope=col>Sex</th><th scope=col>Wr.Hnd</th><th scope=col>NW.Hnd</th><th scope=col>Pulse</th><th scope=col>Smoke</th><th scope=col>Height</th><th scope=col>Age</th><th scope=col>Young</th><th scope=col>Hnd.group</th></tr>\n",
       "\t<tr><th scope=col>&lt;int&gt;</th><th scope=col>&lt;fct&gt;</th><th scope=col>&lt;dbl&gt;</th><th scope=col>&lt;dbl&gt;</th><th scope=col>&lt;int&gt;</th><th scope=col>&lt;fct&gt;</th><th scope=col>&lt;dbl&gt;</th><th scope=col>&lt;dbl&gt;</th><th scope=col>&lt;chr&gt;</th><th scope=col>&lt;fct&gt;</th></tr>\n",
       "</thead>\n",
       "<tbody>\n",
       "\t<tr><td>1</td><td>Male  </td><td>21.4</td><td>21.0</td><td>63</td><td>Never</td><td>180.00</td><td>19.000</td><td>Yes</td><td>Lin     </td></tr>\n",
       "\t<tr><td>2</td><td>Male  </td><td>19.5</td><td>19.4</td><td>79</td><td>Never</td><td>165.00</td><td>18.083</td><td>Yes</td><td>VanVleet</td></tr>\n",
       "\t<tr><td>3</td><td>Female</td><td>16.3</td><td>16.2</td><td>44</td><td>Regul</td><td>152.40</td><td>23.500</td><td>No </td><td>Drake   </td></tr>\n",
       "\t<tr><td>4</td><td>Female</td><td>15.9</td><td>16.5</td><td>99</td><td>Never</td><td>167.64</td><td>17.333</td><td>Yes</td><td>Curry   </td></tr>\n",
       "\t<tr><td>5</td><td>Male  </td><td>19.3</td><td>19.4</td><td>55</td><td>Never</td><td>180.34</td><td>19.833</td><td>Yes</td><td>VanVleet</td></tr>\n",
       "\t<tr><td>6</td><td>Male  </td><td>18.5</td><td>18.5</td><td>48</td><td>Never</td><td>167.00</td><td>22.333</td><td>No </td><td>VanVleet</td></tr>\n",
       "</tbody>\n",
       "</table>\n"
      ],
      "text/latex": [
       "A data.frame: 6 × 10\n",
       "\\begin{tabular}{r|llllllllll}\n",
       " X & Sex & Wr.Hnd & NW.Hnd & Pulse & Smoke & Height & Age & Young & Hnd.group\\\\\n",
       " <int> & <fct> & <dbl> & <dbl> & <int> & <fct> & <dbl> & <dbl> & <chr> & <fct>\\\\\n",
       "\\hline\n",
       "\t 1 & Male   & 21.4 & 21.0 & 63 & Never & 180.00 & 19.000 & Yes & Lin     \\\\\n",
       "\t 2 & Male   & 19.5 & 19.4 & 79 & Never & 165.00 & 18.083 & Yes & VanVleet\\\\\n",
       "\t 3 & Female & 16.3 & 16.2 & 44 & Regul & 152.40 & 23.500 & No  & Drake   \\\\\n",
       "\t 4 & Female & 15.9 & 16.5 & 99 & Never & 167.64 & 17.333 & Yes & Curry   \\\\\n",
       "\t 5 & Male   & 19.3 & 19.4 & 55 & Never & 180.34 & 19.833 & Yes & VanVleet\\\\\n",
       "\t 6 & Male   & 18.5 & 18.5 & 48 & Never & 167.00 & 22.333 & No  & VanVleet\\\\\n",
       "\\end{tabular}\n"
      ],
      "text/markdown": [
       "\n",
       "A data.frame: 6 × 10\n",
       "\n",
       "| X &lt;int&gt; | Sex &lt;fct&gt; | Wr.Hnd &lt;dbl&gt; | NW.Hnd &lt;dbl&gt; | Pulse &lt;int&gt; | Smoke &lt;fct&gt; | Height &lt;dbl&gt; | Age &lt;dbl&gt; | Young &lt;chr&gt; | Hnd.group &lt;fct&gt; |\n",
       "|---|---|---|---|---|---|---|---|---|---|\n",
       "| 1 | Male   | 21.4 | 21.0 | 63 | Never | 180.00 | 19.000 | Yes | Lin      |\n",
       "| 2 | Male   | 19.5 | 19.4 | 79 | Never | 165.00 | 18.083 | Yes | VanVleet |\n",
       "| 3 | Female | 16.3 | 16.2 | 44 | Regul | 152.40 | 23.500 | No  | Drake    |\n",
       "| 4 | Female | 15.9 | 16.5 | 99 | Never | 167.64 | 17.333 | Yes | Curry    |\n",
       "| 5 | Male   | 19.3 | 19.4 | 55 | Never | 180.34 | 19.833 | Yes | VanVleet |\n",
       "| 6 | Male   | 18.5 | 18.5 | 48 | Never | 167.00 | 22.333 | No  | VanVleet |\n",
       "\n"
      ],
      "text/plain": [
       "  X Sex    Wr.Hnd NW.Hnd Pulse Smoke Height Age    Young Hnd.group\n",
       "1 1 Male   21.4   21.0   63    Never 180.00 19.000 Yes   Lin      \n",
       "2 2 Male   19.5   19.4   79    Never 165.00 18.083 Yes   VanVleet \n",
       "3 3 Female 16.3   16.2   44    Regul 152.40 23.500 No    Drake    \n",
       "4 4 Female 15.9   16.5   99    Never 167.64 17.333 Yes   Curry    \n",
       "5 5 Male   19.3   19.4   55    Never 180.34 19.833 Yes   VanVleet \n",
       "6 6 Male   18.5   18.5   48    Never 167.00 22.333 No    VanVleet "
      ]
     },
     "metadata": {},
     "output_type": "display_data"
    }
   ],
   "source": [
    "groups <- c(\"Curry\", \"Drake\", \"VanVleet\", \"Lin\", \"Leonard\")\n",
    "data$Hnd.group <- cut(data$Wr.Hnd, breaks = cut.points, labels = groups, right = TRUE)\n",
    "head(data)"
   ]
  },
  {
   "cell_type": "code",
   "execution_count": null,
   "metadata": {},
   "outputs": [],
   "source": []
  },
  {
   "cell_type": "markdown",
   "metadata": {},
   "source": [
    "cut -> split -> list -> lapply"
   ]
  },
  {
   "cell_type": "markdown",
   "metadata": {},
   "source": [
    "sapply"
   ]
  },
  {
   "cell_type": "markdown",
   "metadata": {},
   "source": [
    "function()\n",
    "aggregate(), _apply() with our own function"
   ]
  },
  {
   "cell_type": "code",
   "execution_count": null,
   "metadata": {},
   "outputs": [],
   "source": []
  }
 ],
 "metadata": {
  "celltoolbar": "Raw Cell Format",
  "kernelspec": {
   "display_name": "R",
   "language": "R",
   "name": "ir"
  },
  "language_info": {
   "codemirror_mode": "r",
   "file_extension": ".r",
   "mimetype": "text/x-r-source",
   "name": "R",
   "pygments_lexer": "r",
   "version": "3.6.0"
  }
 },
 "nbformat": 4,
 "nbformat_minor": 2
}
