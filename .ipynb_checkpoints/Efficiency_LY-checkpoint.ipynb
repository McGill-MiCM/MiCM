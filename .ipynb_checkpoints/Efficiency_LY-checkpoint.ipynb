{
 "cells": [
  {
   "cell_type": "markdown",
   "metadata": {},
   "source": [
    "# <font color='blue'>MiCM Workshop Series - R Programming Beyond the Basics</font>\n",
    "## <font color='green'>Efficient Programming and Computing</font>\n",
    "### - Yi Lian\n",
    "### - August 13, 2019"
   ]
  },
  {
   "cell_type": "markdown",
   "metadata": {},
   "source": [
    "## <font color='blue'>Outline</font>\n",
    "<font color='green'>**_Morning_**</font>\n",
    "1. __An overview of efficiency__\n",
    "    - General rules\n",
    "    - R-specific rules\n",
    "    - Time your program in R\n",
    "2. __Efficient programming__\n",
    "    - Powerful functions in R\n",
    "            - ifelse(), cut() and split()\n",
    "            - aggregate(), by(), apply() family\n",
    "    - Write our own functions in R\n",
    "            - function()\n",
    "    - Examples and exercises\n",
    "        - Categorization, conditional operations, etc..\n",
    "        \n",
    "<font color='green'>**_Afternoon_**</font>\n",
    "3. __Efficient computing__\n",
    "    - Parallel computing\n",
    "            - Package 'parallel'\n",
    "    - Integration with C++\n",
    "            - Package 'Rcpp'\n",
    "    - Integration with Fortran\n",
    "    - Examples and exercises\n",
    "        - Implement our own gradient descent function written in R, Rcpp or Fortran!"
   ]
  },
  {
   "cell_type": "markdown",
   "metadata": {},
   "source": [
    "## 1. An overview of efficiency\n",
    "#### Why?\n",
    "- Era of big data/machine learning/AI\n",
    "- Large sample size and/or high dimension\n",
    "\n",
    "### 1.1 General rules\n",
    "- Reading/writing data and other operations take time (CPU)\n",
    "- Objects and operations take memory\n",
    "    - http://adv-r.had.co.nz/memory.html\n",
    "    - R will do \"garbage collection\" automatically when it needs more memory, which takes time\n",
    "- Setups take time (overhead)\n",
    "- Programming languages are different and are fast/slow at different things\n",
    "- Efficient programming $\\neq$ efficient computing\n",
    "    - Shorter codes do not necessarily lead to shorter run time.\n",
    "- __Avoid duplicated operations, especially expensive operations__\n",
    "    - Matrix mulplications, inversion, etc..\n",
    "- __Test your program__\n",
    "\n",
    "### 1.2 R-specific rules\n",
    "- R emphasizes flexibility but not speed\n",
    "    - Very good for research\n",
    "- R is designed to be better with vectorized operations than loops\n",
    "- Without specific setups, R only uses 1 CPU core/thread\n",
    "    - Setting up parallel (multicore) computing takes time (overhead)\n",
    "- Use well-developped R functions and packages\n",
    "    - Some of them have core computations written in other languages, e.g. C, C++, Fortran"
   ]
  },
  {
   "cell_type": "code",
   "execution_count": 1,
   "metadata": {},
   "outputs": [],
   "source": [
    "# On MacOS, CPU usage can go up to 100% when 1 core is used.\n",
    "# Let's try to inverse a 1000 x 1000 matrix.\n",
    "A <- diag(500)\n",
    "A.inv <- solve(A)\n",
    "\n",
    "# optim in R calls C programs, run optim to see source code.\n",
    "# optim"
   ]
  },
  {
   "cell_type": "markdown",
   "metadata": {},
   "source": [
    "### 1.3 Time your program in R\n",
    "        - proc.time(), system.time()\n",
    "        - microbenchmark()"
   ]
  },
  {
   "cell_type": "code",
   "execution_count": 2,
   "metadata": {},
   "outputs": [
    {
     "data": {
      "text/html": [
       "TRUE"
      ],
      "text/latex": [
       "TRUE"
      ],
      "text/markdown": [
       "TRUE"
      ],
      "text/plain": [
       "[1] TRUE"
      ]
     },
     "metadata": {},
     "output_type": "display_data"
    }
   ],
   "source": [
    "# Calculate the square root of integers 1 to 1,000,000 using three different operations:\n",
    "# Vectorized operation\n",
    "t <- system.time( x1 <- sqrt(1:1000000) )\n",
    "\n",
    "# For loop\n",
    "x2 <- rep(NA, 1000000)\n",
    "t0 <- proc.time()\n",
    "for (i in 1:1000000) {\n",
    "    x2[i] <- sqrt(i)\n",
    "}\n",
    "t1 <- proc.time()\n",
    "\n",
    "identical(x1, x2)"
   ]
  },
  {
   "cell_type": "code",
   "execution_count": 3,
   "metadata": {},
   "outputs": [
    {
     "data": {
      "text/plain": [
       "   user  system elapsed \n",
       "  0.006   0.004   0.010 "
      ]
     },
     "metadata": {},
     "output_type": "display_data"
    },
    {
     "data": {
      "text/plain": [
       "   user  system elapsed \n",
       "  0.066   0.002   0.068 "
      ]
     },
     "metadata": {},
     "output_type": "display_data"
    }
   ],
   "source": [
    "# As we can see, R is not very good with loops.\n",
    "t; t1 - t0"
   ]
  },
  {
   "cell_type": "code",
   "execution_count": null,
   "metadata": {},
   "outputs": [],
   "source": [
    "library(microbenchmark)\n",
    "result <- microbenchmark(sqrt(1:1000000),\n",
    "                         for (i in 1:1000000) {x2[i] <- sqrt(i)},\n",
    "                         unit = \"s\", times = 20\n",
    "                        )\n",
    "summary(result)\n",
    "# Result in seconds"
   ]
  },
  {
   "cell_type": "code",
   "execution_count": null,
   "metadata": {},
   "outputs": [],
   "source": [
    "# Use well-developped R functions\n",
    "result <- microbenchmark(sqrt(500),\n",
    "                         500^0.5,\n",
    "                         unit = \"ns\", times = 1000\n",
    "                        )\n",
    "summary(result)\n",
    "# Result in nanoseconds"
   ]
  },
  {
   "cell_type": "markdown",
   "metadata": {},
   "source": [
    "##### In summary, keep the rules in mind, test your program, time your program.\n",
    "## 2. Efficient programming\n",
    "R has many powerful and useful functions that we can use to achieve efficient programming and computing."
   ]
  },
  {
   "cell_type": "code",
   "execution_count": null,
   "metadata": {},
   "outputs": [],
   "source": []
  },
  {
   "cell_type": "code",
   "execution_count": null,
   "metadata": {},
   "outputs": [],
   "source": []
  },
  {
   "cell_type": "code",
   "execution_count": null,
   "metadata": {},
   "outputs": [],
   "source": []
  }
 ],
 "metadata": {
  "celltoolbar": "Raw Cell Format",
  "kernelspec": {
   "display_name": "R",
   "language": "R",
   "name": "ir"
  },
  "language_info": {
   "codemirror_mode": "r",
   "file_extension": ".r",
   "mimetype": "text/x-r-source",
   "name": "R",
   "pygments_lexer": "r",
   "version": "3.6.0"
  }
 },
 "nbformat": 4,
 "nbformat_minor": 2
}
