{
 "cells": [
  {
   "cell_type": "markdown",
   "metadata": {},
   "source": [
    "# MiCM Workshop Series - R Programming Beyond the Basics\n",
    "## Efficient Programming and Computing\n",
    "### - Yi Lian\n",
    "### - August 13, 2019"
   ]
  },
  {
   "cell_type": "markdown",
   "metadata": {},
   "source": [
    "## Outline\n",
    "**_Morning_**\n",
    "1. __An overview of efficiency__\n",
    "    - General rules\n",
    "    - R-specific rules\n",
    "    - Time your program in R\n",
    "2. __Efficient programming__\n",
    "    - Powerful functions in R\n",
    "            - ifelse(), cut() and split()\n",
    "            - aggregate(), by(), apply() family\n",
    "    - Write our own functions in R\n",
    "            - function()\n",
    "    - Examples and exercises\n",
    "        - Categorization, conditional operations, etc..\n",
    "        \n",
    "**_Afternoon_**\n",
    "3. __Efficient computing__\n",
    "    - Parallel computing\n",
    "            - Package 'parallel'\n",
    "    - Integration with C++\n",
    "            - Package 'Rcpp'\n",
    "    - Integration with Fortran\n",
    "    - Examples and exercises\n",
    "        - Implement our own gradient descent function written in R, Rcpp or Fortran!\n",
    "        \n",
    "##### Important note! There are many advanced and powerful packages that do different things. However, they will not be covered in this tutorial.\n",
    "##### Here is a list of some awesome packages for data manipulation.\n",
    "https://awesome-r.com/#awesome-r-data-manipulation"
   ]
  },
  {
   "cell_type": "markdown",
   "metadata": {},
   "source": [
    "## 1. An overview of efficiency\n",
    "#### Why?\n",
    "- Era of big data/machine learning/AI\n",
    "- Large sample size and/or high dimension\n",
    "\n",
    "### 1.1 General rules\n",
    "- Reading/writing data and other operations take time (CPU)\n",
    "- Objects and operations take memory\n",
    "    - http://adv-r.had.co.nz/memory.html\n",
    "    - R will do \"garbage collection\" automatically when it needs more memory, which takes time\n",
    "- Setups take time (overhead)\n",
    "- Programming languages are different and are fast/slow at different things\n",
    "- Efficient programming $\\neq$ efficient computing\n",
    "    - Shorter codes do not necessarily lead to shorter run time.\n",
    "- __Avoid duplicated operations, especially expensive operations__\n",
    "    - Matrix mulplications, inversion, etc..\n",
    "- __Test your program__\n",
    "\n",
    "### 1.2 R-specific rules\n",
    "- R emphasizes flexibility but not speed\n",
    "    - Very good for research\n",
    "- R is designed to be better with vectorized operations than loops\n",
    "- Without specific setups, R only uses 1 CPU core/thread\n",
    "    - Setting up parallel (multicore) computing takes time (overhead)\n",
    "- Use well-developped R functions and packages\n",
    "    - Some of them have core computations written in other languages, e.g. C, C++, Fortran"
   ]
  },
  {
   "cell_type": "code",
   "execution_count": 1,
   "metadata": {},
   "outputs": [],
   "source": [
    "# On MacOS, CPU usage can go up to 100% when 1 core is used.\n",
    "# Let's try to inverse a large matrix.\n",
    "# A <- diag(5000)\n",
    "# A.inv <- solve(A)\n",
    "\n",
    "# optim in R calls C programs, run optim to see source code.\n",
    "# optim"
   ]
  },
  {
   "cell_type": "markdown",
   "metadata": {},
   "source": [
    "### 1.3 Time your program in R\n",
    "        - proc.time(), system.time()\n",
    "        - microbenchmark()"
   ]
  },
  {
   "cell_type": "code",
   "execution_count": 2,
   "metadata": {},
   "outputs": [
    {
     "data": {
      "text/html": [
       "TRUE"
      ],
      "text/latex": [
       "TRUE"
      ],
      "text/markdown": [
       "TRUE"
      ],
      "text/plain": [
       "[1] TRUE"
      ]
     },
     "metadata": {},
     "output_type": "display_data"
    }
   ],
   "source": [
    "# Calculate the square root of integers 1 to 1,000,000 using two different operations:\n",
    "# Vectorized operation\n",
    "t <- system.time( x1 <- sqrt(1:1000000) )\n",
    "\n",
    "# For loop\n",
    "x2 <- rep(NA, 1000000)\n",
    "t0 <- proc.time()\n",
    "for (i in 1:1000000) {\n",
    "    x2[i] <- sqrt(i)\n",
    "}\n",
    "t1 <- proc.time()\n",
    "\n",
    "identical(x1, x2)"
   ]
  },
  {
   "cell_type": "code",
   "execution_count": 3,
   "metadata": {},
   "outputs": [
    {
     "data": {
      "text/plain": [
       "   user  system elapsed \n",
       "  0.006   0.004   0.011 "
      ]
     },
     "metadata": {},
     "output_type": "display_data"
    },
    {
     "data": {
      "text/plain": [
       "   user  system elapsed \n",
       "  0.067   0.002   0.069 "
      ]
     },
     "metadata": {},
     "output_type": "display_data"
    }
   ],
   "source": [
    "# As we can see, R is not very good with loops.\n",
    "t; t1 - t0"
   ]
  },
  {
   "cell_type": "code",
   "execution_count": 4,
   "metadata": {},
   "outputs": [
    {
     "data": {
      "text/html": [
       "<table>\n",
       "<caption>A data.frame: 2 × 8</caption>\n",
       "<thead>\n",
       "\t<tr><th scope=col>expr</th><th scope=col>min</th><th scope=col>lq</th><th scope=col>mean</th><th scope=col>median</th><th scope=col>uq</th><th scope=col>max</th><th scope=col>neval</th></tr>\n",
       "\t<tr><th scope=col>&lt;fct&gt;</th><th scope=col>&lt;dbl&gt;</th><th scope=col>&lt;dbl&gt;</th><th scope=col>&lt;dbl&gt;</th><th scope=col>&lt;dbl&gt;</th><th scope=col>&lt;dbl&gt;</th><th scope=col>&lt;dbl&gt;</th><th scope=col>&lt;dbl&gt;</th></tr>\n",
       "</thead>\n",
       "<tbody>\n",
       "\t<tr><td>sqrt(1:1e+06)                              </td><td>0.004201712</td><td>0.004397159</td><td>0.006559282</td><td>0.00519702</td><td>0.008317069</td><td>0.01094512</td><td>20</td></tr>\n",
       "\t<tr><td><span style=white-space:pre-wrap>for (i in 1:1e+06) {     x2[i] &lt;- sqrt(i) }</span></td><td>0.059184854</td><td>0.060054009</td><td>0.063860896</td><td>0.06349835</td><td>0.066131720</td><td>0.07619752</td><td>20</td></tr>\n",
       "</tbody>\n",
       "</table>\n"
      ],
      "text/latex": [
       "A data.frame: 2 × 8\n",
       "\\begin{tabular}{r|llllllll}\n",
       " expr & min & lq & mean & median & uq & max & neval\\\\\n",
       " <fct> & <dbl> & <dbl> & <dbl> & <dbl> & <dbl> & <dbl> & <dbl>\\\\\n",
       "\\hline\n",
       "\t sqrt(1:1e+06)                               & 0.004201712 & 0.004397159 & 0.006559282 & 0.00519702 & 0.008317069 & 0.01094512 & 20\\\\\n",
       "\t for (i in 1:1e+06) \\{     x2{[}i{]} <- sqrt(i) \\} & 0.059184854 & 0.060054009 & 0.063860896 & 0.06349835 & 0.066131720 & 0.07619752 & 20\\\\\n",
       "\\end{tabular}\n"
      ],
      "text/markdown": [
       "\n",
       "A data.frame: 2 × 8\n",
       "\n",
       "| expr &lt;fct&gt; | min &lt;dbl&gt; | lq &lt;dbl&gt; | mean &lt;dbl&gt; | median &lt;dbl&gt; | uq &lt;dbl&gt; | max &lt;dbl&gt; | neval &lt;dbl&gt; |\n",
       "|---|---|---|---|---|---|---|---|\n",
       "| sqrt(1:1e+06)                               | 0.004201712 | 0.004397159 | 0.006559282 | 0.00519702 | 0.008317069 | 0.01094512 | 20 |\n",
       "| for (i in 1:1e+06) {     x2[i] &lt;- sqrt(i) } | 0.059184854 | 0.060054009 | 0.063860896 | 0.06349835 | 0.066131720 | 0.07619752 | 20 |\n",
       "\n"
      ],
      "text/plain": [
       "  expr                                        min         lq         \n",
       "1 sqrt(1:1e+06)                               0.004201712 0.004397159\n",
       "2 for (i in 1:1e+06) {     x2[i] <- sqrt(i) } 0.059184854 0.060054009\n",
       "  mean        median     uq          max        neval\n",
       "1 0.006559282 0.00519702 0.008317069 0.01094512 20   \n",
       "2 0.063860896 0.06349835 0.066131720 0.07619752 20   "
      ]
     },
     "metadata": {},
     "output_type": "display_data"
    }
   ],
   "source": [
    "library(microbenchmark)\n",
    "result <- microbenchmark(sqrt(1:1000000),\n",
    "                         for (i in 1:1000000) {x2[i] <- sqrt(i)},\n",
    "                         unit = \"s\", times = 20\n",
    "                        )\n",
    "summary(result)\n",
    "# Result in seconds"
   ]
  },
  {
   "cell_type": "code",
   "execution_count": 5,
   "metadata": {},
   "outputs": [
    {
     "data": {
      "text/html": [
       "<table>\n",
       "<caption>A data.frame: 2 × 8</caption>\n",
       "<thead>\n",
       "\t<tr><th scope=col>expr</th><th scope=col>min</th><th scope=col>lq</th><th scope=col>mean</th><th scope=col>median</th><th scope=col>uq</th><th scope=col>max</th><th scope=col>neval</th></tr>\n",
       "\t<tr><th scope=col>&lt;fct&gt;</th><th scope=col>&lt;dbl&gt;</th><th scope=col>&lt;dbl&gt;</th><th scope=col>&lt;dbl&gt;</th><th scope=col>&lt;dbl&gt;</th><th scope=col>&lt;dbl&gt;</th><th scope=col>&lt;dbl&gt;</th><th scope=col>&lt;dbl&gt;</th></tr>\n",
       "</thead>\n",
       "<tbody>\n",
       "\t<tr><td>sqrt(500)</td><td> 77</td><td> 88.5</td><td>101.775</td><td> 93</td><td> 99</td><td>2489</td><td>1000</td></tr>\n",
       "\t<tr><td>500^0.5  </td><td>153</td><td>163.0</td><td>180.670</td><td>168</td><td>174</td><td>3911</td><td>1000</td></tr>\n",
       "</tbody>\n",
       "</table>\n"
      ],
      "text/latex": [
       "A data.frame: 2 × 8\n",
       "\\begin{tabular}{r|llllllll}\n",
       " expr & min & lq & mean & median & uq & max & neval\\\\\n",
       " <fct> & <dbl> & <dbl> & <dbl> & <dbl> & <dbl> & <dbl> & <dbl>\\\\\n",
       "\\hline\n",
       "\t sqrt(500) &  77 &  88.5 & 101.775 &  93 &  99 & 2489 & 1000\\\\\n",
       "\t 500\\textasciicircum{}0.5   & 153 & 163.0 & 180.670 & 168 & 174 & 3911 & 1000\\\\\n",
       "\\end{tabular}\n"
      ],
      "text/markdown": [
       "\n",
       "A data.frame: 2 × 8\n",
       "\n",
       "| expr &lt;fct&gt; | min &lt;dbl&gt; | lq &lt;dbl&gt; | mean &lt;dbl&gt; | median &lt;dbl&gt; | uq &lt;dbl&gt; | max &lt;dbl&gt; | neval &lt;dbl&gt; |\n",
       "|---|---|---|---|---|---|---|---|\n",
       "| sqrt(500) |  77 |  88.5 | 101.775 |  93 |  99 | 2489 | 1000 |\n",
       "| 500^0.5   | 153 | 163.0 | 180.670 | 168 | 174 | 3911 | 1000 |\n",
       "\n"
      ],
      "text/plain": [
       "  expr      min lq    mean    median uq  max  neval\n",
       "1 sqrt(500)  77  88.5 101.775  93     99 2489 1000 \n",
       "2 500^0.5   153 163.0 180.670 168    174 3911 1000 "
      ]
     },
     "metadata": {},
     "output_type": "display_data"
    }
   ],
   "source": [
    "# Use well-developped R functions\n",
    "result <- microbenchmark(sqrt(500),\n",
    "                         500^0.5,\n",
    "                         unit = \"ns\", times = 1000\n",
    "                        )\n",
    "summary(result)\n",
    "# Result in nanoseconds"
   ]
  },
  {
   "cell_type": "markdown",
   "metadata": {},
   "source": [
    "##### In summary, keep the rules in mind, test your program, time your program.\n",
    "## 2. Efficient programming\n",
    "R has many powerful and useful functions that we can use to achieve efficient programming and computing.\n",
    "##### Let's play with some data."
   ]
  },
  {
   "cell_type": "code",
   "execution_count": 40,
   "metadata": {},
   "outputs": [
    {
     "data": {
      "text/html": [
       "<table>\n",
       "<caption>A data.frame: 10 × 8</caption>\n",
       "<thead>\n",
       "\t<tr><th scope=col>X</th><th scope=col>Sex</th><th scope=col>Wr.Hnd</th><th scope=col>NW.Hnd</th><th scope=col>Pulse</th><th scope=col>Smoke</th><th scope=col>Height</th><th scope=col>Age</th></tr>\n",
       "\t<tr><th scope=col>&lt;int&gt;</th><th scope=col>&lt;fct&gt;</th><th scope=col>&lt;dbl&gt;</th><th scope=col>&lt;dbl&gt;</th><th scope=col>&lt;int&gt;</th><th scope=col>&lt;fct&gt;</th><th scope=col>&lt;dbl&gt;</th><th scope=col>&lt;dbl&gt;</th></tr>\n",
       "</thead>\n",
       "<tbody>\n",
       "\t<tr><td> 1</td><td>Male  </td><td>21.4</td><td>21.0</td><td>63</td><td>Never</td><td>180.00</td><td>19.000</td></tr>\n",
       "\t<tr><td> 2</td><td>Male  </td><td>19.5</td><td>19.4</td><td>79</td><td>Never</td><td>165.00</td><td>18.083</td></tr>\n",
       "\t<tr><td> 3</td><td>Female</td><td>16.3</td><td>16.2</td><td>44</td><td>Regul</td><td>152.40</td><td>23.500</td></tr>\n",
       "\t<tr><td> 4</td><td>Female</td><td>15.9</td><td>16.5</td><td>99</td><td>Never</td><td>167.64</td><td>17.333</td></tr>\n",
       "\t<tr><td> 5</td><td>Male  </td><td>19.3</td><td>19.4</td><td>55</td><td>Never</td><td>180.34</td><td>19.833</td></tr>\n",
       "\t<tr><td> 6</td><td>Male  </td><td>18.5</td><td>18.5</td><td>48</td><td>Never</td><td>167.00</td><td>22.333</td></tr>\n",
       "\t<tr><td> 7</td><td>Female</td><td>17.5</td><td>17.0</td><td>85</td><td>Heavy</td><td>163.00</td><td>17.667</td></tr>\n",
       "\t<tr><td> 8</td><td>Male  </td><td>19.8</td><td>20.0</td><td>NA</td><td>Never</td><td>180.00</td><td>17.417</td></tr>\n",
       "\t<tr><td> 9</td><td>Female</td><td>13.0</td><td>12.5</td><td>77</td><td>Never</td><td>165.00</td><td>18.167</td></tr>\n",
       "\t<tr><td>10</td><td>Female</td><td>18.5</td><td>18.0</td><td>75</td><td>Never</td><td>173.00</td><td>18.250</td></tr>\n",
       "</tbody>\n",
       "</table>\n"
      ],
      "text/latex": [
       "A data.frame: 10 × 8\n",
       "\\begin{tabular}{r|llllllll}\n",
       " X & Sex & Wr.Hnd & NW.Hnd & Pulse & Smoke & Height & Age\\\\\n",
       " <int> & <fct> & <dbl> & <dbl> & <int> & <fct> & <dbl> & <dbl>\\\\\n",
       "\\hline\n",
       "\t  1 & Male   & 21.4 & 21.0 & 63 & Never & 180.00 & 19.000\\\\\n",
       "\t  2 & Male   & 19.5 & 19.4 & 79 & Never & 165.00 & 18.083\\\\\n",
       "\t  3 & Female & 16.3 & 16.2 & 44 & Regul & 152.40 & 23.500\\\\\n",
       "\t  4 & Female & 15.9 & 16.5 & 99 & Never & 167.64 & 17.333\\\\\n",
       "\t  5 & Male   & 19.3 & 19.4 & 55 & Never & 180.34 & 19.833\\\\\n",
       "\t  6 & Male   & 18.5 & 18.5 & 48 & Never & 167.00 & 22.333\\\\\n",
       "\t  7 & Female & 17.5 & 17.0 & 85 & Heavy & 163.00 & 17.667\\\\\n",
       "\t  8 & Male   & 19.8 & 20.0 & NA & Never & 180.00 & 17.417\\\\\n",
       "\t  9 & Female & 13.0 & 12.5 & 77 & Never & 165.00 & 18.167\\\\\n",
       "\t 10 & Female & 18.5 & 18.0 & 75 & Never & 173.00 & 18.250\\\\\n",
       "\\end{tabular}\n"
      ],
      "text/markdown": [
       "\n",
       "A data.frame: 10 × 8\n",
       "\n",
       "| X &lt;int&gt; | Sex &lt;fct&gt; | Wr.Hnd &lt;dbl&gt; | NW.Hnd &lt;dbl&gt; | Pulse &lt;int&gt; | Smoke &lt;fct&gt; | Height &lt;dbl&gt; | Age &lt;dbl&gt; |\n",
       "|---|---|---|---|---|---|---|---|\n",
       "|  1 | Male   | 21.4 | 21.0 | 63 | Never | 180.00 | 19.000 |\n",
       "|  2 | Male   | 19.5 | 19.4 | 79 | Never | 165.00 | 18.083 |\n",
       "|  3 | Female | 16.3 | 16.2 | 44 | Regul | 152.40 | 23.500 |\n",
       "|  4 | Female | 15.9 | 16.5 | 99 | Never | 167.64 | 17.333 |\n",
       "|  5 | Male   | 19.3 | 19.4 | 55 | Never | 180.34 | 19.833 |\n",
       "|  6 | Male   | 18.5 | 18.5 | 48 | Never | 167.00 | 22.333 |\n",
       "|  7 | Female | 17.5 | 17.0 | 85 | Heavy | 163.00 | 17.667 |\n",
       "|  8 | Male   | 19.8 | 20.0 | NA | Never | 180.00 | 17.417 |\n",
       "|  9 | Female | 13.0 | 12.5 | 77 | Never | 165.00 | 18.167 |\n",
       "| 10 | Female | 18.5 | 18.0 | 75 | Never | 173.00 | 18.250 |\n",
       "\n"
      ],
      "text/plain": [
       "   X  Sex    Wr.Hnd NW.Hnd Pulse Smoke Height Age   \n",
       "1   1 Male   21.4   21.0   63    Never 180.00 19.000\n",
       "2   2 Male   19.5   19.4   79    Never 165.00 18.083\n",
       "3   3 Female 16.3   16.2   44    Regul 152.40 23.500\n",
       "4   4 Female 15.9   16.5   99    Never 167.64 17.333\n",
       "5   5 Male   19.3   19.4   55    Never 180.34 19.833\n",
       "6   6 Male   18.5   18.5   48    Never 167.00 22.333\n",
       "7   7 Female 17.5   17.0   85    Heavy 163.00 17.667\n",
       "8   8 Male   19.8   20.0   NA    Never 180.00 17.417\n",
       "9   9 Female 13.0   12.5   77    Never 165.00 18.167\n",
       "10 10 Female 18.5   18.0   75    Never 173.00 18.250"
      ]
     },
     "metadata": {},
     "output_type": "display_data"
    }
   ],
   "source": [
    "data <- read.csv(\"https://raw.githubusercontent.com/ly129/MiCM/master/sample.csv\", header = TRUE)\n",
    "head(data, 10)"
   ]
  },
  {
   "cell_type": "code",
   "execution_count": 41,
   "metadata": {},
   "outputs": [
    {
     "data": {
      "text/plain": [
       "       X              Sex         Wr.Hnd          NW.Hnd          Pulse       \n",
       " Min.   :  1.00   Female:47   Min.   :13.00   Min.   :12.50   Min.   : 40.00  \n",
       " 1st Qu.: 25.75   Male  :53   1st Qu.:17.50   1st Qu.:17.45   1st Qu.: 50.25  \n",
       " Median : 50.50               Median :18.50   Median :18.50   Median : 71.50  \n",
       " Mean   : 50.50               Mean   :18.43   Mean   :18.39   Mean   : 69.90  \n",
       " 3rd Qu.: 75.25               3rd Qu.:19.50   3rd Qu.:19.52   3rd Qu.: 84.75  \n",
       " Max.   :100.00               Max.   :23.20   Max.   :23.30   Max.   :104.00  \n",
       "                                                              NA's   :6       \n",
       "   Smoke        Height           Age       \n",
       " Heavy: 6   Min.   :152.0   Min.   :16.92  \n",
       " Never:79   1st Qu.:166.4   1st Qu.:17.58  \n",
       " Occas: 5   Median :170.2   Median :18.46  \n",
       " Regul:10   Mean   :171.8   Mean   :20.97  \n",
       "            3rd Qu.:179.1   3rd Qu.:20.21  \n",
       "            Max.   :200.0   Max.   :73.00  \n",
       "            NA's   :13                     "
      ]
     },
     "metadata": {},
     "output_type": "display_data"
    }
   ],
   "source": [
    "summary(data)"
   ]
  },
  {
   "cell_type": "markdown",
   "metadata": {},
   "source": [
    "#### a. Calculate the mean writing hand span of all individuals\n",
    "    mean(x, trim = 0, na.rm = FALSE, ...)"
   ]
  },
  {
   "cell_type": "code",
   "execution_count": null,
   "metadata": {},
   "outputs": [],
   "source": []
  },
  {
   "cell_type": "markdown",
   "metadata": {},
   "source": [
    "#### b. Calculate the mean height of all individuals, exclude the missing values"
   ]
  },
  {
   "cell_type": "code",
   "execution_count": 26,
   "metadata": {},
   "outputs": [],
   "source": []
  },
  {
   "cell_type": "markdown",
   "metadata": {},
   "source": [
    "#### c. Calculate the count/proportion of males and females\n",
    "    table(...,\n",
    "      exclude = if (useNA == \"no\") c(NA, NaN),\n",
    "      useNA = c(\"no\", \"ifany\", \"always\"),\n",
    "      dnn = list.names(...), deparse.level = 1)\n",
    "\n",
    "    prop.table()"
   ]
  },
  {
   "cell_type": "code",
   "execution_count": null,
   "metadata": {},
   "outputs": [],
   "source": []
  },
  {
   "cell_type": "markdown",
   "metadata": {},
   "source": [
    "#### d. Calculate the count of each smoking status group"
   ]
  },
  {
   "cell_type": "code",
   "execution_count": null,
   "metadata": {},
   "outputs": [],
   "source": []
  },
  {
   "cell_type": "markdown",
   "metadata": {},
   "source": [
    "#### e. Calculate the count of males and females in each smoking status group"
   ]
  },
  {
   "cell_type": "code",
   "execution_count": null,
   "metadata": {},
   "outputs": [],
   "source": []
  },
  {
   "cell_type": "markdown",
   "metadata": {},
   "source": [
    "#### f. Calculate the standare deviation of writing hand span of females"
   ]
  },
  {
   "cell_type": "code",
   "execution_count": null,
   "metadata": {},
   "outputs": [],
   "source": []
  },
  {
   "cell_type": "markdown",
   "metadata": {},
   "source": [
    "#### g. Calculate the standard deviation of writing hand span of all different gender-smoking groups"
   ]
  },
  {
   "cell_type": "code",
   "execution_count": 47,
   "metadata": {},
   "outputs": [],
   "source": []
  },
  {
   "cell_type": "code",
   "execution_count": 50,
   "metadata": {},
   "outputs": [
    {
     "data": {
      "text/html": [
       "<pre class=language-r><code>function (data, INDICES, FUN, ..., simplify = TRUE) \n",
       "UseMethod(\"by\")</code></pre>"
      ],
      "text/latex": [
       "\\begin{minted}{r}\n",
       "function (data, INDICES, FUN, ..., simplify = TRUE) \n",
       "UseMethod(\"by\")\n",
       "\\end{minted}"
      ],
      "text/markdown": [
       "```r\n",
       "function (data, INDICES, FUN, ..., simplify = TRUE) \n",
       "UseMethod(\"by\")\n",
       "```"
      ],
      "text/plain": [
       "function (data, INDICES, FUN, ..., simplify = TRUE) \n",
       "UseMethod(\"by\")\n",
       "<bytecode: 0x7fa259f4a6b0>\n",
       "<environment: namespace:base>"
      ]
     },
     "metadata": {},
     "output_type": "display_data"
    }
   ],
   "source": [
    "by"
   ]
  },
  {
   "cell_type": "code",
   "execution_count": null,
   "metadata": {},
   "outputs": [],
   "source": []
  }
 ],
 "metadata": {
  "celltoolbar": "Raw Cell Format",
  "kernelspec": {
   "display_name": "R",
   "language": "R",
   "name": "ir"
  },
  "language_info": {
   "codemirror_mode": "r",
   "file_extension": ".r",
   "mimetype": "text/x-r-source",
   "name": "R",
   "pygments_lexer": "r",
   "version": "3.6.0"
  }
 },
 "nbformat": 4,
 "nbformat_minor": 2
}
