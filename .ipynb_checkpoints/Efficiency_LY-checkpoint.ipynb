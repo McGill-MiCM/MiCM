{
 "cells": [
  {
   "cell_type": "markdown",
   "metadata": {},
   "source": [
    "# MiCM Workshop Series - R Programming Beyond the Basics\n",
    "## Efficient Coding and Computing\n",
    "### - Yi Lian\n",
    "### - August 13, 2019"
   ]
  },
  {
   "cell_type": "markdown",
   "metadata": {},
   "source": [
    "## Outline\n",
    "**_Morning_**\n",
    "1. __An overview of efficiency__\n",
    "    - General rules\n",
    "    - R-specific rules\n",
    "    - Time your program in R\n",
    "2. __Efficient coding__\n",
    "    - Powerful functions in R\n",
    "            - aggregate(), by(), apply() family\n",
    "            - ifelse(), cut() and split()\n",
    "    - Write our own functions in R\n",
    "            - function()\n",
    "    - Examples and exercises\n",
    "         - Categorization, conditional operations, etc..\n",
    "        \n",
    "**_Afternoon_**\n",
    "3. __Efficient computing__\n",
    "    - Parallel computing\n",
    "            - Package 'parallel'\n",
    "    - Integration with C++\n",
    "            - Package 'Rcpp'\n",
    "    - Integration with Fortran\n",
    "    - Examples and exercises\n",
    "         - Implement our own functions written in R, Rcpp or Fortran!\n",
    "        \n",
    "##### Important note! There are MANY advanced and powerful packages that do different things. There are too many and they are too diverse to be covered in this tutorial.\n",
    "##### Here is a list of some awesome packages for data manipulation.\n",
    "https://awesome-r.com/#awesome-r-data-manipulation"
   ]
  },
  {
   "cell_type": "markdown",
   "metadata": {},
   "source": [
    "## 1. An overview of efficiency\n",
    "__Why?__\n",
    "- Era of big data/machine learning/AI\n",
    "- Large sample size and/or high dimension\n",
    "\n",
    "### 1.1 General rules\n",
    "- All operations take time (CPU)\n",
    "- Reading/writing data takes time\n",
    "    - Memory allocation and re-allocation\n",
    "    - A not really appropriate illustration\n",
    "    <img src=\"sd.png\" alt=\"Drawing\" style=\"width: 120px;\"/>\n",
    "- Objects and operations take memory\n",
    "    - http://adv-r.had.co.nz/memory.html\n",
    "    - e.g. R will do \"garbage collection\" automatically when it needs more memory, which takes time\n",
    "- Setups take time (overhead)\n",
    "- Programming languages are different and are fast/slow at different things\n",
    "- Efficient coding $\\neq$ efficient computing\n",
    "    - Shorter codes do not necessarily lead to shorter run time.\n",
    "- __Avoid duplicated operations, especially expensive operations__\n",
    "    - Matrix mulplications, inversion, etc..\n",
    "    - Store the results that will be used later as objects.\n",
    "- __Test your program__\n",
    "\n",
    "### 1.2 R-specific rules\n",
    "- R emphasizes flexibility but not speed\n",
    "    - Very good for research\n",
    "- R is designed to be better with __vectorized__ operations than loops\n",
    "- Without specific setups, R only uses 1 __CPU__ core\n",
    "    - Setting up parallel (multicore) computing takes time (overhead)\n",
    "- Use well-developped R functions and packages\n",
    "    - Some of them have core computations written in other languages, e.g. C, C++, Fortran\n",
    "    - These functions usually make coding and computing more efficient at the same time."
   ]
  },
  {
   "cell_type": "markdown",
   "metadata": {},
   "source": [
    "#### 1.2.1 To understand vectorized operations and to facilitate integration with other programs, we need to know R data types and structures\n",
    "##### R data types\n",
    "    - numeric\n",
    "        - integer\n",
    "        - double (default)\n",
    "    - logical\n",
    "    - character\n",
    "    - factor\n",
    "    - ..."
   ]
  },
  {
   "cell_type": "code",
   "execution_count": null,
   "metadata": {
    "scrolled": true
   },
   "outputs": [],
   "source": [
    "class(5); is.double(5)"
   ]
  },
  {
   "cell_type": "code",
   "execution_count": null,
   "metadata": {
    "scrolled": true
   },
   "outputs": [],
   "source": [
    "class(5L); is.double(5L)"
   ]
  },
  {
   "cell_type": "code",
   "execution_count": null,
   "metadata": {},
   "outputs": [],
   "source": [
    "object.size(rep(5, 1000))\n",
    "object.size(rep(5L, 1000))"
   ]
  },
  {
   "cell_type": "code",
   "execution_count": null,
   "metadata": {},
   "outputs": [],
   "source": [
    "# How precise is double precision?\n",
    "options(digits = 22) # show more digits in output\n",
    "print(1/3)\n",
    "options(digits = 7) # default"
   ]
  },
  {
   "cell_type": "code",
   "execution_count": null,
   "metadata": {},
   "outputs": [],
   "source": [
    "class(TRUE)"
   ]
  },
  {
   "cell_type": "code",
   "execution_count": null,
   "metadata": {},
   "outputs": [],
   "source": [
    "class(\"TRUE\")"
   ]
  },
  {
   "cell_type": "code",
   "execution_count": null,
   "metadata": {},
   "outputs": [],
   "source": [
    "fac <- as.factor(c(1, 5, 11, 3))\n",
    "fac\n",
    "class(fac)\n",
    "\n",
    "fac.ch <- as.factor(c(\"B\", \"a\", \"1\", \"ab\", \"b\", \"A\"))\n",
    "fac.ch"
   ]
  },
  {
   "cell_type": "markdown",
   "metadata": {},
   "source": [
    "##### R data structures\n",
    "    - Scalar *\n",
    "    - Vector\n",
    "    - Matrix\n",
    "    - Array\n",
    "    - List\n",
    "    - Data frame\n",
    "    - ..."
   ]
  },
  {
   "cell_type": "code",
   "execution_count": null,
   "metadata": {},
   "outputs": [],
   "source": [
    "# Scalar - a vector of length 1\n",
    "myscalar <- 5\n",
    "myscalar\n",
    "class(myscalar)"
   ]
  },
  {
   "cell_type": "code",
   "execution_count": null,
   "metadata": {},
   "outputs": [],
   "source": [
    "# Vector\n",
    "myvector <- c(1, 1, 2, 3, 5, 8)\n",
    "myvector\n",
    "class(myvector)"
   ]
  },
  {
   "cell_type": "code",
   "execution_count": null,
   "metadata": {},
   "outputs": [],
   "source": [
    "# Matrix - a 2d array\n",
    "mymatrix <- matrix(c(1, 1, 2, 3, 5, 8), nrow = 2, byrow = FALSE)\n",
    "mymatrix\n",
    "class(mymatrix)"
   ]
  },
  {
   "cell_type": "code",
   "execution_count": null,
   "metadata": {},
   "outputs": [],
   "source": [
    "# Array - although not important for this workshop\n",
    "myarray <- array(c(1, 1, 2, 3, 5, 8, 13, 21, 34, 55, 89, 144), dim = c(2, 2, 3))\n",
    "print(myarray) # print() is not needed if run in R or Rstudio.\n",
    "class(myarray)"
   ]
  },
  {
   "cell_type": "code",
   "execution_count": null,
   "metadata": {},
   "outputs": [],
   "source": [
    "# List\n",
    "mylist <- list(Title = \"Efficient Coding and Computing\",\n",
    "               Duration = c(3, 3),\n",
    "               Date = as.Date(\"2019-08-13\"),\n",
    "               Lunch_provided = FALSE,\n",
    "               Feedbacks = c(\"Amazing!\", \"Great workshop!\", \"Yi is the best!\", \"Wow!\")\n",
    ")\n",
    "print(mylist)\n",
    "class(mylist)"
   ]
  },
  {
   "cell_type": "code",
   "execution_count": null,
   "metadata": {},
   "outputs": [],
   "source": [
    "mylist$Feedbacks"
   ]
  },
  {
   "cell_type": "code",
   "execution_count": null,
   "metadata": {},
   "outputs": [],
   "source": [
    "# Elements in lists can have different data types\n",
    "lapply(mylist, class) # We will talk about lapply() later"
   ]
  },
  {
   "cell_type": "code",
   "execution_count": null,
   "metadata": {},
   "outputs": [],
   "source": [
    "# Elements in list can have different lengths\n",
    "lapply(mylist, length)"
   ]
  },
  {
   "cell_type": "code",
   "execution_count": null,
   "metadata": {
    "scrolled": true
   },
   "outputs": [],
   "source": [
    "# Data frames - most commonly used for analyses\n",
    "head(mtcars)"
   ]
  },
  {
   "cell_type": "code",
   "execution_count": null,
   "metadata": {},
   "outputs": [],
   "source": [
    "mtcars$mpg"
   ]
  },
  {
   "cell_type": "markdown",
   "metadata": {},
   "source": [
    "#### 1.2.2 To show CPU usage"
   ]
  },
  {
   "cell_type": "code",
   "execution_count": null,
   "metadata": {},
   "outputs": [],
   "source": [
    "# Let's try to invert a large matrix.\n",
    "A <- diag(4000)\n",
    "# A.inv <- solve(A)"
   ]
  },
  {
   "cell_type": "markdown",
   "metadata": {},
   "source": [
    "#### 1.2.3 To show integration with other languages"
   ]
  },
  {
   "cell_type": "code",
   "execution_count": null,
   "metadata": {},
   "outputs": [],
   "source": [
    "# optim() in R calls C programs, run optim to see source code.\n",
    "# optim"
   ]
  },
  {
   "cell_type": "markdown",
   "metadata": {},
   "source": [
    "### 1.3 Time your program in R\n",
    "        - proc.time(), system.time()\n",
    "        - microbenchmark()\n",
    "__Example__\n",
    "Calculate the square root of 1 to 1,000,000 using three different operations:\n",
    "#### 1. Vectorized"
   ]
  },
  {
   "cell_type": "code",
   "execution_count": null,
   "metadata": {},
   "outputs": [],
   "source": [
    "# Vectorized operation\n",
    "t <- system.time( x1 <- sqrt(1:1000000) )\n",
    "head(x1)"
   ]
  },
  {
   "cell_type": "markdown",
   "metadata": {},
   "source": [
    "#### 2. For loop with memory pre-allocation"
   ]
  },
  {
   "cell_type": "code",
   "execution_count": null,
   "metadata": {},
   "outputs": [],
   "source": [
    "# We can do worse\n",
    "# For loop with memory pre-allocation\n",
    "x2 <- rep(NA, 1000000)\n",
    "t0 <- proc.time()\n",
    "for (i in 1:1000000) {\n",
    "    x2[i] <- sqrt(i)\n",
    "}\n",
    "t1 <- proc.time()\n",
    "\n",
    "identical(x1, x2) # Check whether results are the same"
   ]
  },
  {
   "cell_type": "markdown",
   "metadata": {},
   "source": [
    "#### 3. For loop without memory pre-allocation"
   ]
  },
  {
   "cell_type": "code",
   "execution_count": null,
   "metadata": {},
   "outputs": [],
   "source": [
    "# Even worse\n",
    "# For loop without memory pre-allocation\n",
    "x3 <- NULL\n",
    "t2 <- proc.time()\n",
    "for (i in 1:1000000) {\n",
    "    x3[i] <- sqrt(i)\n",
    "}\n",
    "t3 <- proc.time()\n",
    "\n",
    "identical(x2, x3) # Check whether results are the same"
   ]
  },
  {
   "cell_type": "code",
   "execution_count": null,
   "metadata": {},
   "outputs": [],
   "source": [
    "# As we can see, R is not very good with loops.\n",
    "t; t1 - t0; t3 - t2\n",
    "# ?proc.time"
   ]
  },
  {
   "cell_type": "markdown",
   "metadata": {},
   "source": [
    "##### How did R execute these three sets of codes?\n",
    "The better we know how programming languages work, how computers work in general, the better codes we can write.\n",
    "1. Vectorized\n",
    "        x1 <- sqrt(1:1000000)\n",
    "        \n",
    "        - Yum! I see a vector. I just need to do this sqrt thing to every single element.\n",
    "        - sqrt 1, sqrt 2, ..., sqrt 1e6\n",
    "        - Save everything in x1 and put it in memory.\n",
    "2. For loop with memory pre-allocation\n",
    "        x2 <- rep(NA, 1000000)\n",
    "        for (i in 1:1000000) { x2[i] <- sqrt(i) }\n",
    "\n",
    "        - For some reason, I need to make a huge vector x2 and set all elements to NA.\n",
    "        - Put it in memory.\n",
    "        - Oh no, a loop. Let me get ready for it.\n",
    "        - 1st step\n",
    "            - Find x2 in memory\n",
    "            - Change the 1st element to sqrt 1\n",
    "            - Put new x2 in memory\n",
    "        - 2nd step\n",
    "            - Find x2 in memory\n",
    "            - Change the 2nd element to sqrt 2\n",
    "            - Put new x2 in memory\n",
    "        - ...\n",
    "        - - 1e6th step\n",
    "            - Find x2 in memory\n",
    "            - Change the 1e6th element to sqrt 1e6\n",
    "            - Put new x2 in memory\n",
    "3. For loop without memory pre-allocation\n",
    "        x3 <- NULL\n",
    "        for (i in 1:1000000) { x3[i] <- sqrt(i) }\n",
    " \n",
    "        - For some reason, I need to make an empty object x3 (NULL has length 0)\n",
    "        - Put it in memory\n",
    "        - Oh no, a loop. Let me get ready for it.\n",
    "        - 1st step\n",
    "            - Find x3 in memory\n",
    "            - Change the 1st element to .., wait x3 has length 0\n",
    "            - Make a new x3 that has length 1\n",
    "            - Change the 1st element to sqrt 1\n",
    "            - Put new x3 in memory, delete old x3\n",
    "        - 2nd step\n",
    "            - Find x3 in memory\n",
    "            - Change the 2nd element to .., wait x3 has length 1\n",
    "            - Make a new x3 that has length 2\n",
    "            - Copy the old x3 and paste as the first 1 element of new x3\n",
    "            - Change the 2nd element to sqrt 2\n",
    "            - Put new x3 in memory, delete old x3\n",
    "        - ...\n",
    "        - 1e6th step\n",
    "            - Find x3 in memory\n",
    "            - Change the 1e6th element to .., wait x3 has length 999999\n",
    "            - Make a new x3 that has length 1e6\n",
    "            - Copy the old x3 and paste as the first 999999 elements of new x3\n",
    "            - Change the 1e6th element to sqrt 1e6\n",
    "            - Put new x3 in memory, delete old x3\n",
    "            \n",
    "___As a result, there will not be a lot of loops in this workshop.___"
   ]
  },
  {
   "cell_type": "markdown",
   "metadata": {},
   "source": [
    "##### However, I still use the third one sometimes.\n",
    "- Speed is not always my major concern. Especially if I am only executing the code once. Or I am working on reasonably sized data and/or fairly inexpensive computations.\n",
    "- Typing takes time too. Compare NULL vs. rep(NA, 1000000)\n",
    "        - capslock, n, u, l, l\n",
    "        - r, e, p, shift + 9, shift + n, shift + a, , , 1000000, shift + 0\n",
    "- Thinking takes time as well. Loop is more intuitive. Sometimes I have to think to get the size of the result object because it can be matrices, arrays, etc.\n",
    "        - matrix(rep(NA, n * p), nrow = n)\n",
    "\n",
    "##### Take-home message\n",
    "- Use vectorized operations rather than loops for speed.\n",
    "- Balance between speed, your need for speed, your own laziness, etc.., based on what you are doing."
   ]
  },
  {
   "cell_type": "code",
   "execution_count": null,
   "metadata": {},
   "outputs": [],
   "source": [
    "library(microbenchmark)\n",
    "result <- microbenchmark(sqrt(1:1000000),\n",
    "                         for (i in 1:1000000) {x2[i] <- sqrt(i)},\n",
    "                         unit = \"s\", times = 20\n",
    "                        )\n",
    "summary(result)\n",
    "# Result in seconds"
   ]
  },
  {
   "cell_type": "code",
   "execution_count": null,
   "metadata": {},
   "outputs": [],
   "source": [
    "# Use well-developped R functions\n",
    "result <- microbenchmark(sqrt(500),\n",
    "                         500^0.5,\n",
    "                         unit = \"ns\", times = 1000\n",
    "                        )\n",
    "summary(result)\n",
    "# Result in nanoseconds"
   ]
  },
  {
   "cell_type": "markdown",
   "metadata": {},
   "source": [
    "##### In summary, keep the rules in mind, know what you want to do, test your program, time your program."
   ]
  },
  {
   "cell_type": "markdown",
   "metadata": {},
   "source": [
    "## 2. Efficient coding\n",
    "R has many powerful and useful functions that we can use to achieve efficient coding and computing.\n",
    "### 2.1 Powerful functions in R\n",
    "##### Let's play with some data."
   ]
  },
  {
   "cell_type": "code",
   "execution_count": null,
   "metadata": {},
   "outputs": [],
   "source": [
    "data <- read.csv(\"https://raw.githubusercontent.com/ly129/MiCM/master/sample.csv\", header = TRUE)\n",
    "head(data, 10)"
   ]
  },
  {
   "cell_type": "code",
   "execution_count": null,
   "metadata": {},
   "outputs": [],
   "source": [
    "summary(data)"
   ]
  },
  {
   "cell_type": "markdown",
   "metadata": {},
   "source": [
    "#### a1. Calculate the mean writing hand span of all individuals\n",
    "    mean(x, trim = 0, na.rm = FALSE, ...)"
   ]
  },
  {
   "cell_type": "code",
   "execution_count": null,
   "metadata": {},
   "outputs": [],
   "source": []
  },
  {
   "cell_type": "markdown",
   "metadata": {},
   "source": [
    "#### a2. Calculate the mean height of all individuals, exclude the missing values"
   ]
  },
  {
   "cell_type": "code",
   "execution_count": null,
   "metadata": {},
   "outputs": [],
   "source": []
  },
  {
   "cell_type": "markdown",
   "metadata": {},
   "source": [
    "#### a3. Calculate the mean of all continuous variables\n",
    "    apply(X, MARGIN, FUN, ...)"
   ]
  },
  {
   "cell_type": "code",
   "execution_count": null,
   "metadata": {},
   "outputs": [],
   "source": [
    "cts.var <- sapply(X = data, FUN = is.double) # We'll talk about sapply later.\n",
    "cts <- data[ , cts.var]\n",
    "head(cts)\n",
    "apply(X = cts, MARGIN = 2, FUN = mean, na.rm = TRUE)"
   ]
  },
  {
   "cell_type": "markdown",
   "metadata": {},
   "source": [
    "#### b1. Calculate the count/proportion of males and females\n",
    "    table(...,\n",
    "      exclude = if (useNA == \"no\") c(NA, NaN),\n",
    "      useNA = c(\"no\", \"ifany\", \"always\"),\n",
    "      dnn = list.names(...), deparse.level = 1)\n",
    "\n",
    "    prop.table()"
   ]
  },
  {
   "cell_type": "code",
   "execution_count": null,
   "metadata": {},
   "outputs": [],
   "source": []
  },
  {
   "cell_type": "markdown",
   "metadata": {},
   "source": [
    "#### b2. Calculate the count in each Smoke group"
   ]
  },
  {
   "cell_type": "code",
   "execution_count": null,
   "metadata": {},
   "outputs": [],
   "source": []
  },
  {
   "cell_type": "markdown",
   "metadata": {},
   "source": [
    "#### b3. Calculate the count of males and females in each Smoke group"
   ]
  },
  {
   "cell_type": "code",
   "execution_count": null,
   "metadata": {},
   "outputs": [],
   "source": [
    "table(data[, c(\"Sex\", \"Smoke\")])"
   ]
  },
  {
   "cell_type": "code",
   "execution_count": null,
   "metadata": {},
   "outputs": [],
   "source": [
    "table(data$Sex, data$Smoke)"
   ]
  },
  {
   "cell_type": "markdown",
   "metadata": {},
   "source": [
    "#### c1. Calculate the standare deviation of writing hand span of females"
   ]
  },
  {
   "cell_type": "code",
   "execution_count": null,
   "metadata": {},
   "outputs": [],
   "source": [
    "aggregate(Wr.Hnd~Sex, data = data, FUN = sd)"
   ]
  },
  {
   "cell_type": "code",
   "execution_count": null,
   "metadata": {},
   "outputs": [],
   "source": [
    "aggregate(data$Wr.Hnd, by = list(data$Sex), FUN = sd)"
   ]
  },
  {
   "cell_type": "code",
   "execution_count": null,
   "metadata": {},
   "outputs": [],
   "source": [
    "by(data = data$Wr.Hnd, INDICES = list(data$Sex), FUN = sd)"
   ]
  },
  {
   "cell_type": "code",
   "execution_count": null,
   "metadata": {},
   "outputs": [],
   "source": [
    "tapply(X = data$Wr.Hnd, INDEX = list(data$Sex), FUN = sd)"
   ]
  },
  {
   "cell_type": "markdown",
   "metadata": {},
   "source": [
    "##### aggregate( ), by( ) and tapply( ) are all connected."
   ]
  },
  {
   "cell_type": "markdown",
   "metadata": {},
   "source": [
    "#### c2. Calculate the standard deviation of writing hand span of all different Sex-Smoke groups"
   ]
  },
  {
   "cell_type": "code",
   "execution_count": null,
   "metadata": {},
   "outputs": [],
   "source": [
    "aggregate(Wr.Hnd~Sex + Smoke, data = data, FUN = sd)"
   ]
  },
  {
   "cell_type": "code",
   "execution_count": null,
   "metadata": {},
   "outputs": [],
   "source": [
    "aggregate(data$Wr.Hnd, by = list(data$Sex, data$Smoke), FUN = sd)"
   ]
  },
  {
   "cell_type": "markdown",
   "metadata": {},
   "source": [
    "#### c3. Calculate the standard deviation of writing hand and non-writing hand span of all Sex-Smoke groups"
   ]
  },
  {
   "cell_type": "code",
   "execution_count": null,
   "metadata": {},
   "outputs": [],
   "source": [
    "aggregate(cbind(Wr.Hnd, NW.Hnd)~Sex + Smoke, data = data, FUN = sd)"
   ]
  },
  {
   "cell_type": "markdown",
   "metadata": {},
   "source": [
    "##### Let's try to figure out what aggregate( ) is doing"
   ]
  },
  {
   "cell_type": "code",
   "execution_count": null,
   "metadata": {},
   "outputs": [],
   "source": [
    "aggregate(Wr.Hnd~Sex + Smoke, data = data, FUN = print)"
   ]
  },
  {
   "cell_type": "markdown",
   "metadata": {},
   "source": [
    "##### Exercise.\n",
    "1. Repeat b1-b3 using aggregate( )"
   ]
  },
  {
   "cell_type": "code",
   "execution_count": null,
   "metadata": {},
   "outputs": [],
   "source": []
  },
  {
   "cell_type": "markdown",
   "metadata": {},
   "source": [
    "2. Make histograms of writing hand span for all eight Sex-Smoke groups using aggregate( )"
   ]
  },
  {
   "cell_type": "code",
   "execution_count": null,
   "metadata": {
    "scrolled": true
   },
   "outputs": [],
   "source": []
  },
  {
   "cell_type": "markdown",
   "metadata": {},
   "source": [
    "#### d1. Categorize 'Age' - make a new binary variable 'Teenage'\n",
    "    ifelse(test, yes, no)"
   ]
  },
  {
   "cell_type": "code",
   "execution_count": null,
   "metadata": {},
   "outputs": [],
   "source": [
    "adult <- 18\n",
    "data$Adult <- ifelse(data$Age >= adult, \"Yes\", \"No\")\n",
    "head(data)"
   ]
  },
  {
   "cell_type": "markdown",
   "metadata": {},
   "source": [
    "##### R has if (test) {opt1} else {opt2}, what is the advantage of ifelse( )?"
   ]
  },
  {
   "cell_type": "code",
   "execution_count": null,
   "metadata": {},
   "outputs": [],
   "source": [
    "if (data$Age >= 18) {\n",
    "    data$Adult2 = \"Yes\"\n",
    "} else {\n",
    "    data$Adult2 = \"No\"\n",
    "}\n",
    "head(data)"
   ]
  },
  {
   "cell_type": "code",
   "execution_count": null,
   "metadata": {},
   "outputs": [],
   "source": [
    "# Delete Adult2\n",
    "data <- data[, -10]"
   ]
  },
  {
   "cell_type": "markdown",
   "metadata": {},
   "source": [
    "##### ifelse( ) is vectorized!!!\n",
    "#### d2. Categorize 'Wr.Hnd' into 5 groups - make a new categorical variable with 5 levels\n",
    "    1. =< 16: Stephen Curry\n",
    "    2. 16~18: Drake\n",
    "    3. 18~20: Fred VanVleet\n",
    "    4. 20~22: Jeremy Lin\n",
    "    5. >  22: Kawhi Leonard\n",
    "Can we still use ifelse( )?"
   ]
  },
  {
   "cell_type": "code",
   "execution_count": null,
   "metadata": {},
   "outputs": [],
   "source": [
    "cut.points <- c(0, 16, 18, 20, 22, Inf)\n",
    "data$Hnd.group <- cut(data$Wr.Hnd, breaks = cut.points, right = TRUE)\n",
    "head(data)"
   ]
  },
  {
   "cell_type": "code",
   "execution_count": null,
   "metadata": {},
   "outputs": [],
   "source": [
    "data$Hnd.group <- cut(data$Wr.Hnd, breaks = cut.points, labels = FALSE, right = TRUE)\n",
    "head(data)"
   ]
  },
  {
   "cell_type": "code",
   "execution_count": null,
   "metadata": {},
   "outputs": [],
   "source": [
    "groups <- c(\"Curry\", \"Drake\", \"VanVleet\", \"Lin\", \"Leonard\")\n",
    "data$Hnd.group <- cut(data$Wr.Hnd, breaks = cut.points, labels = groups, right = TRUE)\n",
    "head(data)"
   ]
  },
  {
   "cell_type": "markdown",
   "metadata": {},
   "source": [
    "#### e1. Calculate the mean Wr.Hnd span of each Hnd.group"
   ]
  },
  {
   "cell_type": "code",
   "execution_count": null,
   "metadata": {},
   "outputs": [],
   "source": []
  },
  {
   "cell_type": "markdown",
   "metadata": {},
   "source": [
    "#### e2. Calcuate the mean Wr.Hnd span of each Hnd.group without using aggregate, by, tapply\n",
    "        split(x, f, ...)\n",
    "        lapply(X, FUN, ...)"
   ]
  },
  {
   "cell_type": "code",
   "execution_count": null,
   "metadata": {},
   "outputs": [],
   "source": [
    "cut.points <- c(0, 16, 18, 20, 22, Inf)\n",
    "grps <- cut(data$Wr.Hnd, breaks = cut.points, labels = groups, right = TRUE)\n",
    "Wr.Hnd.grp <- split(data$Wr.Hnd, f = grps)\n",
    "Wr.Hnd.grp\n",
    "class(Wr.Hnd.grp)"
   ]
  },
  {
   "cell_type": "code",
   "execution_count": null,
   "metadata": {
    "scrolled": false
   },
   "outputs": [],
   "source": [
    "la <- lapply(X = Wr.Hnd.grp, FUN = summary); la\n",
    "class(la)"
   ]
  },
  {
   "cell_type": "code",
   "execution_count": null,
   "metadata": {},
   "outputs": [],
   "source": [
    "sa <- sapply(X = Wr.Hnd.grp, FUN = summary, simplify = TRUE); sa\n",
    "class(sa)\n",
    "# See what simplify does"
   ]
  },
  {
   "cell_type": "code",
   "execution_count": null,
   "metadata": {},
   "outputs": [],
   "source": [
    "# ?vapply\n",
    "# Safer than sapply(), and a little bit faster\n",
    "# because FUN.VALUE has to be specified that length and type should match\n",
    "# Any idea why it can be a little bit faster? Recall...\n",
    "va <- vapply(Wr.Hnd.grp, summary, FUN.VALUE = c(\"Min.\" = numeric(1),\n",
    "                                                \"1st Qu.\" = numeric(1),\n",
    "                                                \"Median\" = numeric(1),\n",
    "                                                \"lalalalala\" = numeric(1),\n",
    "                                                \"3rd Qu.\" = numeric(1),\n",
    "                                                \"Max.\" = numeric(1)))\n",
    "va"
   ]
  },
  {
   "cell_type": "markdown",
   "metadata": {},
   "source": [
    "#### f. Calculate the 95% sample confidence intervals of Wr.Hnd in each Smoke group.\n",
    "One variable for lower bound and one variable for upper bound.\n",
    "\n",
    "$$ CI = \\bar{x} \\pm t_{n-1, 0.025} \\times \\sqrt{\\frac{s^2}{n}} $$\n",
    "\n",
    "where $\\bar{x}$ is the sample mean and $s^2$ is the sample variance."
   ]
  },
  {
   "cell_type": "code",
   "execution_count": null,
   "metadata": {},
   "outputs": [],
   "source": [
    "# aggregate(Wr.Hnd~Smoke, data = data, FUN = ...)\n",
    "# tapply(X = data$Wr.Hnd, INDEX = list(data$Smoke), FUN = ...)"
   ]
  },
  {
   "cell_type": "markdown",
   "metadata": {},
   "source": [
    "##### Unfortunately, I do not know any function in R that does this calculation.\n",
    "But I know how to do it step by step."
   ]
  },
  {
   "cell_type": "code",
   "execution_count": null,
   "metadata": {},
   "outputs": [],
   "source": [
    "sample.mean <- NULL\n",
    "sample.sd <- NULL\n",
    "n <- 10\n",
    "t <- qt(p = 0.025, df = n - 1, lower.tail = FALSE)\n",
    "lb <- sample.mean - t * sample.sd / sqrt(n)\n",
    "ub <- sample.mean + t * sample.sd / sqrt(n)\n",
    "\n",
    "# How many times did we aggregate according to the group? Can on aggregate only once?"
   ]
  },
  {
   "cell_type": "markdown",
   "metadata": {},
   "source": [
    "##### Or, we can make our own function and integrate it into aggregate( ), by( ), or tapply( ) !!!\n",
    "### 2.2 Write our own functions in R\n",
    "A function takes in some inputs and gives outputs"
   ]
  },
  {
   "cell_type": "code",
   "execution_count": null,
   "metadata": {},
   "outputs": [],
   "source": [
    "# The structure\n",
    "func_name <- function(argument){\n",
    "    statement\n",
    "}"
   ]
  },
  {
   "cell_type": "markdown",
   "metadata": {},
   "source": [
    "#### Example 1. Make a function for $f(x) = 2x$"
   ]
  },
  {
   "cell_type": "code",
   "execution_count": null,
   "metadata": {},
   "outputs": [],
   "source": [
    "# Build the function\n",
    "times2 <- function(x) {\n",
    "    fx = 2 * x\n",
    "    return(fx)\n",
    "}\n",
    "# Use the function\n",
    "times2(x = 5)\n",
    "# or\n",
    "times2(5)"
   ]
  },
  {
   "cell_type": "markdown",
   "metadata": {},
   "source": [
    "#### Example 2. Make a function to calculate the integer division of $a$ by $b$, return the integer part and the modulus."
   ]
  },
  {
   "cell_type": "code",
   "execution_count": null,
   "metadata": {},
   "outputs": [],
   "source": [
    "# R has operators that do this\n",
    "9 %/% 2\n",
    "9 %% 2"
   ]
  },
  {
   "cell_type": "code",
   "execution_count": null,
   "metadata": {},
   "outputs": [],
   "source": [
    "int.div <- function(a, b) {\n",
    "    int <- floor(a/b)\n",
    "    mod <- a - int * b\n",
    "    return(cat(a, \"%%\", b, \": integer =\", int, \"modulus =\", mod, \"\\n\"))\n",
    "}\n",
    "\n",
    "int.div(b = 2, a = 9)"
   ]
  },
  {
   "cell_type": "code",
   "execution_count": null,
   "metadata": {},
   "outputs": [],
   "source": [
    "# We can incorporate basically anything in functions, say a loop\n",
    "int.div.loop <- function(numerator, denominator) {\n",
    "    a <- numerator\n",
    "    b <- denominator\n",
    "    i <- 0\n",
    "    while (a >= b) {\n",
    "        a  <- a - b\n",
    "        i <- i + 1\n",
    "    }\n",
    "    return(list(integer = i, modulus = a))\n",
    "}\n",
    "result <- int.div.loop(3, numerator = 9)\n",
    "result\n",
    "class(result)\n",
    "result$modulus"
   ]
  },
  {
   "cell_type": "markdown",
   "metadata": {},
   "source": [
    "#### Example 3. Make the simplest canadian AI chatbot"
   ]
  },
  {
   "cell_type": "code",
   "execution_count": null,
   "metadata": {},
   "outputs": [],
   "source": [
    "# No need to worry about the details here.\n",
    "# Just want to show that functions do not always have to return() something.\n",
    "AIcanadian <- function(who, reply_to) {\n",
    "    system(paste(\"say -v\", who, \"Sorry!\"))\n",
    "}\n",
    "AIcanadian(\"Alex\", \"Sorry I stepped on your foot.\")"
   ]
  },
  {
   "cell_type": "code",
   "execution_count": null,
   "metadata": {},
   "outputs": [],
   "source": [
    "# Train my chatbot - AlphaGo style.\n",
    "# I'll let Alex and Victoria talk to each other.\n",
    "# MacOS has their voices recorded.\n",
    "chat_log <- rep(NA, 8)\n",
    "# for (i in 1:8) {\n",
    "#     if (i == 1) {\n",
    "#         chat_log[1] <- \"Sorry I stepped on your foot.\"\n",
    "#         system(\"say -v Victoria Sorry, I stepped on your foot.\")\n",
    "#     } else {\n",
    "#         if (i %% 2 == 0)\n",
    "#             chat_log[i] <- AIcanadian(\"Alex\", chat_log[i - 1])\n",
    "#         else\n",
    "#             chat_log[i] <- AIcanadian(\"Victoria\", chat_log[i - 1])\n",
    "#     }\n",
    "# }\n",
    "# chat_log"
   ]
  },
  {
   "cell_type": "markdown",
   "metadata": {},
   "source": [
    "#### Example 4. Check one summary statistic by Smoke group of our 'data' data.\n",
    "Function arguments can be basically anything, say another function."
   ]
  },
  {
   "cell_type": "code",
   "execution_count": null,
   "metadata": {},
   "outputs": [],
   "source": [
    "data_summary <- function(func) {\n",
    "    data <- read.csv(\"https://raw.githubusercontent.com/ly129/MiCM/master/sample.csv\", header = TRUE)\n",
    "    by(data = data$Wr.Hnd, INDICES = list(data$Smoke), FUN = func)\n",
    "}\n",
    "data_summary(quantile)"
   ]
  },
  {
   "cell_type": "markdown",
   "metadata": {},
   "source": [
    "##### Exercise: make a function to calculate sample confidence intervals (2.1 f)"
   ]
  },
  {
   "cell_type": "code",
   "execution_count": null,
   "metadata": {},
   "outputs": [],
   "source": [
    "# sample.mean <- NULL\n",
    "# sample.sd <- NULL\n",
    "# n <- NULL\n",
    "# t <- qt(p = 0.025, df = n - 1, lower.tail = FALSE)\n",
    "# lb <- sample.mean - t * sample.sd / sqrt(n)\n",
    "# ub <- sample.mean + t * sample.sd / sqrt(n)\n",
    "\n",
    "sample_CI <- function(x) {\n",
    "}\n",
    "\n",
    "aggregate(Wr.Hnd~Smoke, data = data, FUN = sample_CI)"
   ]
  },
  {
   "cell_type": "markdown",
   "metadata": {},
   "source": [
    "## 3. Efficient computing\n",
    "We often want to minimize the resources used to do certain computation.\n",
    "##### Time is usually the most important resource.\n",
    "Other resources are relatively less important.\n",
    "### 3.1 Parallel computing\n",
    "When multiple tasks are independent of each other. We can use (up to) all the CPU cores at the same time to do the tasks simultaneously."
   ]
  },
  {
   "cell_type": "code",
   "execution_count": null,
   "metadata": {
    "scrolled": true
   },
   "outputs": [],
   "source": [
    "library(parallel)\n",
    "detectCores()"
   ]
  },
  {
   "cell_type": "code",
   "execution_count": null,
   "metadata": {},
   "outputs": [],
   "source": [
    "mat.list <- sapply(c(1, 5, 200, 250, 1800, 2000), diag)\n",
    "print(head(mat.list, 2)) # print() makes the output here look the same as in R/Rstudio"
   ]
  },
  {
   "cell_type": "markdown",
   "metadata": {},
   "source": [
    "#### Here we compare lapply( ) and its multi-core version mclapply( ) and parLapply( ) in the 'parallel' package.\n",
    "    - lapply()\n",
    "    - mclapply(..., mc.preschedule = TRUE)   # without load balancing\n",
    "    - mclapply(..., mc.preschedule = FALSE)  # with load balancing\n",
    "    \n",
    "##### mcapply( ) sets up a pool of mc.cores workers just for this computation.\n",
    "\n",
    "##### mclapply( ) is not available on Windows. For those of you using Windows computers\n",
    "\n",
    "https://www.apple.com/ca/mac/ or https://ubuntu.com or\n",
    "\n",
    "    - parLapply                              # without load balancing\n",
    "    - parLapplyLB                            # with load balancing\n",
    "\n",
    "To use parLapply( ), we need to set up a cluster, and we need to close the cluster after we are done. The good part is that we can put several parLapply( ) calls within the cluster."
   ]
  },
  {
   "cell_type": "code",
   "execution_count": null,
   "metadata": {
    "scrolled": false
   },
   "outputs": [],
   "source": [
    "system.time(\n",
    "    sc <- lapply(mat.list, solve)\n",
    ")"
   ]
  },
  {
   "cell_type": "code",
   "execution_count": null,
   "metadata": {},
   "outputs": [],
   "source": [
    "system.time(\n",
    "    mc <- mclapply(mat.list, solve, mc.preschedule = TRUE, mc.cores = 3)\n",
    ")"
   ]
  },
  {
   "cell_type": "code",
   "execution_count": null,
   "metadata": {},
   "outputs": [],
   "source": [
    "system.time(\n",
    "    mc <- mclapply(mat.list, solve, mc.preschedule = FALSE, mc.cores = 3)\n",
    ")"
   ]
  },
  {
   "cell_type": "code",
   "execution_count": null,
   "metadata": {},
   "outputs": [],
   "source": [
    "t <- proc.time()\n",
    "cl <- makeCluster(3) # Use 3 cores\n",
    "pl <- parLapply(cl = cl, X = mat.list, fun = solve)\n",
    "stopCluster(cl)\n",
    "proc.time() - t"
   ]
  },
  {
   "cell_type": "code",
   "execution_count": null,
   "metadata": {},
   "outputs": [],
   "source": [
    "t <- proc.time()\n",
    "cl <- makeCluster(3)\n",
    "pl <- parLapplyLB(cl = cl, X = mat.list, fun = solve)\n",
    "stopCluster(cl)\n",
    "proc.time() - t"
   ]
  },
  {
   "cell_type": "code",
   "execution_count": null,
   "metadata": {},
   "outputs": [],
   "source": [
    "t <- proc.time()\n",
    "cl <- makeCluster(3)\n",
    "pl_nb <- parLapply(cl = cl, X = mat.list, fun = solve)\n",
    "pl_lb <- parLapplyLB(cl = cl, X = mat.list, fun = solve)\n",
    "stopCluster(cl)\n",
    "proc.time() - t"
   ]
  },
  {
   "cell_type": "markdown",
   "metadata": {},
   "source": [
    "##### For both mclapply( ) and parLapply( ), setting up parallel computing takes time (overhead).\n",
    "So parLapply( ) can be faster in some cases."
   ]
  },
  {
   "cell_type": "code",
   "execution_count": null,
   "metadata": {},
   "outputs": [],
   "source": [
    "t <- proc.time()\n",
    "cl <- makeCluster(3)\n",
    "stopCluster(cl)\n",
    "proc.time() - t"
   ]
  },
  {
   "cell_type": "markdown",
   "metadata": {},
   "source": [
    "##### Load-balancing is tricky.\n",
    "\"Load balancing is potentially advantageous when the tasks take quite dissimilar amounts of computation time, or where the nodes are of disparate capabilities.\"\n",
    "\n",
    "If 1000 tasks need to be allocated to 10 nodes (CPUs, cores, etc.)\n",
    "- without load-balancing, 100 tasks are sent to each of the nodes.\n",
    "- with load-balancing, tasks are sent to a node one at a time. Overhead is high."
   ]
  },
  {
   "cell_type": "markdown",
   "metadata": {},
   "source": [
    "##### Take-home message\n",
    "- Parallel computing exists in R\n",
    "- They are not faster than non-parallel computing by a factor of number of cores used.\n",
    "- R is still slow.\n",
    "\n",
    "##### The solution is lower-level programming languages.\n",
    "- C\n",
    "- C++\n",
    "- Fortran\n",
    "\n",
    "### 3.2 Integration with C++\n",
    "__The 'Rcpp' package__\n",
    "    - \"Seamless R and C++ Integration\"\n",
    "    \n",
    "1. Install 'Rcpp' package in R\n",
    "2. Install compiler\n",
    "    - Windows: Rstudio should ask you to install Rtools when you source your cpp code.\n",
    "        - If not, you can download and install Rtools on the exact same webpage where you downloaded R.\n",
    "    - MacOS:\n",
    "        - Install XCode Command Line Tools. Open Terminal, paste and run\n",
    "                xcode-select --install\n",
    "        - Install gfortran-6.1 binary and clang compiler (also on the exact same webpage as the R download)\n",
    "        \n",
    "            https://cran.r-project.org/bin/macosx/tools/\n",
    "            \n",
    "    _“Setup is extra work on macOS, but it is above our pay grade to change that.” - Dirk Eddelbuettel_\n",
    "         https://github.com/RcppCore/RcppArmadillo/issues/249\n",
    "3. File -> New File -> C++ File\n",
    "4. Code C++\n",
    "    - Try not to forget ';' at the end of lines;\n",
    "    - Every object that has ever appeared has to be defined;\n",
    "    - Have to use loops to do a lot of things such as matrix calculations (not slow though);\n",
    "\n",
    "#### Example 1. Create an R function that calculates the square root of vectors in C++."
   ]
  },
  {
   "cell_type": "code",
   "execution_count": null,
   "metadata": {},
   "outputs": [],
   "source": [
    "library(Rcpp)\n",
    "sourceCpp(\"sqrt_cpp.cpp\")\n",
    "square_root(1:4)"
   ]
  },
  {
   "cell_type": "code",
   "execution_count": null,
   "metadata": {},
   "outputs": [],
   "source": [
    "bchmk <- microbenchmark(sqrt(1:1e6),\n",
    "                        square_root(1:1e6),\n",
    "                        unit = \"ms\", times = 100\n",
    "                       )\n",
    "summary(bchmk)"
   ]
  },
  {
   "cell_type": "markdown",
   "metadata": {},
   "source": [
    "__The addition of the 'RcppArmadillo' package__\n",
    "      - \"Armadillo is a C++ linear algebra library aiming towards a good balance between speed and ease of use.\"\n",
    "http://arma.sourceforge.net\n",
    "\n",
    "___Linear algebra in Armadillo___\n",
    "http://arma.sourceforge.net/armadillo_joss_2016.pdf\n",
    "\n",
    "In base C++, operations like matrix multiplication requires loops.\n",
    "#### Example 2. Create an R function that calculates matrix multiplication in C++."
   ]
  },
  {
   "cell_type": "code",
   "execution_count": null,
   "metadata": {},
   "outputs": [],
   "source": [
    "sourceCpp(\"mat_mul_cpp.cpp\")"
   ]
  },
  {
   "cell_type": "code",
   "execution_count": null,
   "metadata": {},
   "outputs": [],
   "source": [
    "# Now we can already call the function using the name defined in the .cpp file\n",
    "a <- matrix(rnorm(100000), ncol = 50000)  # 2 x 50000 matrix\n",
    "b <- matrix(rnorm(200000), nrow = 50000)  # 50000 x 4 matrix\n",
    "\n",
    "mat_mul(a, b)\n",
    "# mat_mul(b, a)"
   ]
  },
  {
   "cell_type": "code",
   "execution_count": null,
   "metadata": {},
   "outputs": [],
   "source": [
    "bchmk <- microbenchmark(a %*% b,\n",
    "                        mat_mul(a, b),\n",
    "                        unit = \"us\", times = 100\n",
    "                       )\n",
    "summary(bchmk)"
   ]
  },
  {
   "cell_type": "code",
   "execution_count": null,
   "metadata": {},
   "outputs": [],
   "source": [
    "# Here we make an R function that calls the C++ function\n",
    "mmc <- function(a, b) {\n",
    "    result <- mat_mul(a, b)$MatrixMultiplication\n",
    "    return(result)\n",
    "}\n",
    "mmc(a, b)"
   ]
  },
  {
   "cell_type": "code",
   "execution_count": null,
   "metadata": {},
   "outputs": [],
   "source": [
    "# Another way to do this. Here you do not need to have a separate .cpp file.\n",
    "# A naive .cpp function is made here.\n",
    "library(RcppArmadillo)\n",
    "cppFunction(depends = \"RcppArmadillo\",\n",
    "            code = 'arma::mat mm(arma::mat& A, arma::mat& B){\n",
    "                        return A * B;\n",
    "                    }'\n",
    ")"
   ]
  },
  {
   "cell_type": "code",
   "execution_count": null,
   "metadata": {},
   "outputs": [],
   "source": [
    "mm(a, b)\n",
    "# mm(b, a)"
   ]
  },
  {
   "cell_type": "code",
   "execution_count": null,
   "metadata": {},
   "outputs": [],
   "source": [
    "# We can wrap this naive function in an R function to manipulate input and output in R\n",
    "mmc2 <- function(A, B) {\n",
    "    if (ncol(A) == nrow(B)) {\n",
    "        return(mm(A, B))\n",
    "    } else {\n",
    "        stop(\"non-conformable arguments\")\n",
    "    }\n",
    "}\n",
    "mmc2(a, b)\n",
    "# mmc2(b, a)"
   ]
  },
  {
   "cell_type": "markdown",
   "metadata": {},
   "source": [
    "### 3.3 Integration with Fortran\n",
    "- Old but fast\n",
    "    - We will see that Fortran sacrifices a LOT for speed.\n",
    "- Require a compiler too\n",
    "    - You might have noticed that we have installed a compiler called gfortran\n",
    "- R can call fortran subroutines\n",
    "    - Through a .so file (Shared Object, MacOS) and a .dll file (Dynamic Link Library, Windows)\n",
    "            - R CMD SHLIB -o file_name.so file_name.f90\n",
    "    - Basically a kind of function\n",
    "- Requires pointers for communication between programs\n",
    "    - Pointers point to a locations on the computer's memory otherwise two different programs cannot share data.\n",
    "    - The same applies to C++. 'Rcpp' package handles it for us.\n",
    "    - Test your program in Fortran. The communication between programs make it hard to debug. In terminal, type\n",
    "            - cd file_path\n",
    "            - gfortran file_name.f90\n",
    "            - ./a.out"
   ]
  },
  {
   "cell_type": "code",
   "execution_count": 46,
   "metadata": {},
   "outputs": [
    {
     "data": {
      "text/html": [
       "<table>\n",
       "<caption>A matrix: 2 × 4 of type dbl</caption>\n",
       "<tbody>\n",
       "\t<tr><td>-0.7265744</td><td> 0.3488403409</td><td>-1.56818199</td><td>0.47863529</td></tr>\n",
       "\t<tr><td>-1.0882637</td><td>-0.0002502522</td><td> 0.03957236</td><td>0.01071728</td></tr>\n",
       "</tbody>\n",
       "</table>\n"
      ],
      "text/latex": [
       "A matrix: 2 × 4 of type dbl\n",
       "\\begin{tabular}{llll}\n",
       "\t -0.7265744 &  0.3488403409 & -1.56818199 & 0.47863529\\\\\n",
       "\t -1.0882637 & -0.0002502522 &  0.03957236 & 0.01071728\\\\\n",
       "\\end{tabular}\n"
      ],
      "text/markdown": [
       "\n",
       "A matrix: 2 × 4 of type dbl\n",
       "\n",
       "| -0.7265744 |  0.3488403409 | -1.56818199 | 0.47863529 |\n",
       "| -1.0882637 | -0.0002502522 |  0.03957236 | 0.01071728 |\n",
       "\n"
      ],
      "text/plain": [
       "     [,1]       [,2]          [,3]        [,4]      \n",
       "[1,] -0.7265744  0.3488403409 -1.56818199 0.47863529\n",
       "[2,] -1.0882637 -0.0002502522  0.03957236 0.01071728"
      ]
     },
     "metadata": {},
     "output_type": "display_data"
    },
    {
     "data": {
      "text/html": [
       "<table>\n",
       "<caption>A matrix: 4 × 3 of type dbl</caption>\n",
       "<tbody>\n",
       "\t<tr><td>-3.1124977</td><td> 1.1331331</td><td>-0.1618750</td></tr>\n",
       "\t<tr><td>-0.4561366</td><td>-0.6835550</td><td> 0.6946241</td></tr>\n",
       "\t<tr><td>-1.5031855</td><td> 0.1793388</td><td>-0.5950162</td></tr>\n",
       "\t<tr><td> 0.5016549</td><td> 0.3443689</td><td>-0.1799074</td></tr>\n",
       "</tbody>\n",
       "</table>\n"
      ],
      "text/latex": [
       "A matrix: 4 × 3 of type dbl\n",
       "\\begin{tabular}{lll}\n",
       "\t -3.1124977 &  1.1331331 & -0.1618750\\\\\n",
       "\t -0.4561366 & -0.6835550 &  0.6946241\\\\\n",
       "\t -1.5031855 &  0.1793388 & -0.5950162\\\\\n",
       "\t  0.5016549 &  0.3443689 & -0.1799074\\\\\n",
       "\\end{tabular}\n"
      ],
      "text/markdown": [
       "\n",
       "A matrix: 4 × 3 of type dbl\n",
       "\n",
       "| -3.1124977 |  1.1331331 | -0.1618750 |\n",
       "| -0.4561366 | -0.6835550 |  0.6946241 |\n",
       "| -1.5031855 |  0.1793388 | -0.5950162 |\n",
       "|  0.5016549 |  0.3443689 | -0.1799074 |\n",
       "\n"
      ],
      "text/plain": [
       "     [,1]       [,2]       [,3]      \n",
       "[1,] -3.1124977  1.1331331 -0.1618750\n",
       "[2,] -0.4561366 -0.6835550  0.6946241\n",
       "[3,] -1.5031855  0.1793388 -0.5950162\n",
       "[4,]  0.5016549  0.3443689 -0.1799074"
      ]
     },
     "metadata": {},
     "output_type": "display_data"
    }
   ],
   "source": [
    "set.seed(20190813)\n",
    "\n",
    "ra <- 2\n",
    "ca <- 4\n",
    "rb <- 4\n",
    "cb <- 3\n",
    "\n",
    "A <- matrix(rnorm(ra*ca), nrow = ra)\n",
    "B <- matrix(rnorm(rb*cb), nrow = rb)\n",
    "\n",
    "A; B"
   ]
  },
  {
   "cell_type": "code",
   "execution_count": 47,
   "metadata": {},
   "outputs": [],
   "source": [
    "dyn.load(\"mat_mul_for.so\")"
   ]
  },
  {
   "cell_type": "code",
   "execution_count": 48,
   "metadata": {},
   "outputs": [
    {
     "data": {
      "text/html": [
       "<dl>\n",
       "\t<dt>$A</dt>\n",
       "\t\t<dd><ol class=list-inline>\n",
       "\t<li>-0.72657435955062</li>\n",
       "\t<li>-1.08826373174186</li>\n",
       "\t<li>0.348840340876</li>\n",
       "\t<li>-0.000250252212517976</li>\n",
       "\t<li>-1.56818199047583</li>\n",
       "\t<li>0.0395723591446798</li>\n",
       "\t<li>0.478635292694497</li>\n",
       "\t<li>0.0107172814771946</li>\n",
       "</ol>\n",
       "</dd>\n",
       "\t<dt>$B</dt>\n",
       "\t\t<dd><ol class=list-inline>\n",
       "\t<li>-3.11249770245218</li>\n",
       "\t<li>-0.456136568911746</li>\n",
       "\t<li>-1.5031855452531</li>\n",
       "\t<li>0.501654927877872</li>\n",
       "\t<li>1.13313311393103</li>\n",
       "\t<li>-0.68355497968992</li>\n",
       "\t<li>0.179338752934091</li>\n",
       "\t<li>0.344368887483415</li>\n",
       "\t<li>-0.161874950719064</li>\n",
       "\t<li>0.694624084455543</li>\n",
       "\t<li>-0.595016170289594</li>\n",
       "\t<li>-0.179907360239921</li>\n",
       "</ol>\n",
       "</dd>\n",
       "\t<dt>$AB</dt>\n",
       "\t\t<dd><ol class=list-inline>\n",
       "\t<li>4.69972044222275</li>\n",
       "\t<li>3.33322429270281</li>\n",
       "\t<li>-1.17816571795269</li>\n",
       "\t<li>-1.222189054142</li>\n",
       "\t<li>1.20691072131186</li>\n",
       "\t<li>0.150514495323954</li>\n",
       "</ol>\n",
       "</dd>\n",
       "\t<dt>$RowA</dt>\n",
       "\t\t<dd>2</dd>\n",
       "\t<dt>$ColA</dt>\n",
       "\t\t<dd>4</dd>\n",
       "\t<dt>$RowB</dt>\n",
       "\t\t<dd>4</dd>\n",
       "\t<dt>$ColB</dt>\n",
       "\t\t<dd>3</dd>\n",
       "\t<dt>$RowAB</dt>\n",
       "\t\t<dd>2</dd>\n",
       "\t<dt>$ColAB</dt>\n",
       "\t\t<dd>3</dd>\n",
       "</dl>\n"
      ],
      "text/latex": [
       "\\begin{description}\n",
       "\\item[\\$A] \\begin{enumerate*}\n",
       "\\item -0.72657435955062\n",
       "\\item -1.08826373174186\n",
       "\\item 0.348840340876\n",
       "\\item -0.000250252212517976\n",
       "\\item -1.56818199047583\n",
       "\\item 0.0395723591446798\n",
       "\\item 0.478635292694497\n",
       "\\item 0.0107172814771946\n",
       "\\end{enumerate*}\n",
       "\n",
       "\\item[\\$B] \\begin{enumerate*}\n",
       "\\item -3.11249770245218\n",
       "\\item -0.456136568911746\n",
       "\\item -1.5031855452531\n",
       "\\item 0.501654927877872\n",
       "\\item 1.13313311393103\n",
       "\\item -0.68355497968992\n",
       "\\item 0.179338752934091\n",
       "\\item 0.344368887483415\n",
       "\\item -0.161874950719064\n",
       "\\item 0.694624084455543\n",
       "\\item -0.595016170289594\n",
       "\\item -0.179907360239921\n",
       "\\end{enumerate*}\n",
       "\n",
       "\\item[\\$AB] \\begin{enumerate*}\n",
       "\\item 4.69972044222275\n",
       "\\item 3.33322429270281\n",
       "\\item -1.17816571795269\n",
       "\\item -1.222189054142\n",
       "\\item 1.20691072131186\n",
       "\\item 0.150514495323954\n",
       "\\end{enumerate*}\n",
       "\n",
       "\\item[\\$RowA] 2\n",
       "\\item[\\$ColA] 4\n",
       "\\item[\\$RowB] 4\n",
       "\\item[\\$ColB] 3\n",
       "\\item[\\$RowAB] 2\n",
       "\\item[\\$ColAB] 3\n",
       "\\end{description}\n"
      ],
      "text/markdown": [
       "$A\n",
       ":   1. -0.72657435955062\n",
       "2. -1.08826373174186\n",
       "3. 0.348840340876\n",
       "4. -0.000250252212517976\n",
       "5. -1.56818199047583\n",
       "6. 0.0395723591446798\n",
       "7. 0.478635292694497\n",
       "8. 0.0107172814771946\n",
       "\n",
       "\n",
       "\n",
       "$B\n",
       ":   1. -3.11249770245218\n",
       "2. -0.456136568911746\n",
       "3. -1.5031855452531\n",
       "4. 0.501654927877872\n",
       "5. 1.13313311393103\n",
       "6. -0.68355497968992\n",
       "7. 0.179338752934091\n",
       "8. 0.344368887483415\n",
       "9. -0.161874950719064\n",
       "10. 0.694624084455543\n",
       "11. -0.595016170289594\n",
       "12. -0.179907360239921\n",
       "\n",
       "\n",
       "\n",
       "$AB\n",
       ":   1. 4.69972044222275\n",
       "2. 3.33322429270281\n",
       "3. -1.17816571795269\n",
       "4. -1.222189054142\n",
       "5. 1.20691072131186\n",
       "6. 0.150514495323954\n",
       "\n",
       "\n",
       "\n",
       "$RowA\n",
       ":   2\n",
       "$ColA\n",
       ":   4\n",
       "$RowB\n",
       ":   4\n",
       "$ColB\n",
       ":   3\n",
       "$RowAB\n",
       ":   2\n",
       "$ColAB\n",
       ":   3\n",
       "\n",
       "\n"
      ],
      "text/plain": [
       "$A\n",
       "[1] -0.7265743596 -1.0882637317  0.3488403409 -0.0002502522 -1.5681819905\n",
       "[6]  0.0395723591  0.4786352927  0.0107172815\n",
       "\n",
       "$B\n",
       " [1] -3.1124977 -0.4561366 -1.5031855  0.5016549  1.1331331 -0.6835550\n",
       " [7]  0.1793388  0.3443689 -0.1618750  0.6946241 -0.5950162 -0.1799074\n",
       "\n",
       "$AB\n",
       "[1]  4.6997204  3.3332243 -1.1781657 -1.2221891  1.2069107  0.1505145\n",
       "\n",
       "$RowA\n",
       "[1] 2\n",
       "\n",
       "$ColA\n",
       "[1] 4\n",
       "\n",
       "$RowB\n",
       "[1] 4\n",
       "\n",
       "$ColB\n",
       "[1] 3\n",
       "\n",
       "$RowAB\n",
       "[1] 2\n",
       "\n",
       "$ColAB\n",
       "[1] 3\n"
      ]
     },
     "metadata": {},
     "output_type": "display_data"
    },
    {
     "data": {
      "text/html": [
       "'list'"
      ],
      "text/latex": [
       "'list'"
      ],
      "text/markdown": [
       "'list'"
      ],
      "text/plain": [
       "[1] \"list\""
      ]
     },
     "metadata": {},
     "output_type": "display_data"
    }
   ],
   "source": [
    "result <- .Fortran(\"mat_mul_for\",\n",
    "                   A = as.double(A),\n",
    "                   B = as.double(B),\n",
    "                   AB = double(ra * cb),  # note the difference here\n",
    "                   RowA = as.integer(ra),\n",
    "                   ColA = as.integer(ca),\n",
    "                   RowB = as.integer(rb),\n",
    "                   ColB = as.integer(cb),\n",
    "                   RowAB = as.integer(ra),\n",
    "                   ColAB = as.integer(cb)\n",
    ")\n",
    "result\n",
    "class(result)"
   ]
  },
  {
   "cell_type": "markdown",
   "metadata": {},
   "source": [
    "#### We can wrap it up in an R function as well."
   ]
  },
  {
   "cell_type": "code",
   "execution_count": 54,
   "metadata": {},
   "outputs": [],
   "source": [
    "mmf <- function(A, B) {\n",
    "    ra <- nrow(A)\n",
    "    ca <- ncol(A)\n",
    "    rb <- nrow(B)\n",
    "    cb <- ncol(B)\n",
    "    \n",
    "    if (ca == rb) {\n",
    "        result <- .Fortran(\"mat_mul_for\",\n",
    "                            A = as.double(A),\n",
    "                            B = as.double(B),\n",
    "                            AB = double(ra * cb),\n",
    "                            RowA = as.integer(ra),\n",
    "                            ColA = as.integer(ca),\n",
    "                            RowB = as.integer(rb),\n",
    "                            ColB = as.integer(cb),\n",
    "                            RowAB = as.integer(ra),\n",
    "                            ColAB = as.integer(cb)\n",
    "                            )\n",
    "        mm <- matrix(result$AB, nrow = result$RowAB, byrow = F)\n",
    "    } else {\n",
    "        stop('non-conformable arguments')\n",
    "    }\n",
    "    return(list(Result = mm,\n",
    "                Dimension = c(result$RowAB, result$ColAB)\n",
    "               )\n",
    "          )\n",
    "}"
   ]
  },
  {
   "cell_type": "code",
   "execution_count": 51,
   "metadata": {},
   "outputs": [],
   "source": [
    "set.seed(20190813)\n",
    "\n",
    "ra <- 2\n",
    "ca <- 4\n",
    "rb <- 5\n",
    "cb <- 3\n",
    "\n",
    "A <- matrix(rnorm(ra*ca), nrow = ra)\n",
    "B <- matrix(rnorm(rb*cb), nrow = rb)"
   ]
  },
  {
   "cell_type": "code",
   "execution_count": 52,
   "metadata": {},
   "outputs": [
    {
     "ename": "ERROR",
     "evalue": "Error in mmf(A, B): non-conformable arguments\n",
     "output_type": "error",
     "traceback": [
      "Error in mmf(A, B): non-conformable arguments\nTraceback:\n",
      "1. mmf(A, B)",
      "2. stop(\"non-conformable arguments\")   # at line 21 of file <text>"
     ]
    }
   ],
   "source": [
    "mmf(A, B)"
   ]
  },
  {
   "cell_type": "code",
   "execution_count": 53,
   "metadata": {},
   "outputs": [
    {
     "ename": "ERROR",
     "evalue": "Error in A %*% B: non-conformable arguments\n",
     "output_type": "error",
     "traceback": [
      "Error in A %*% B: non-conformable arguments\nTraceback:\n"
     ]
    }
   ],
   "source": [
    "A %*% B"
   ]
  },
  {
   "cell_type": "code",
   "execution_count": null,
   "metadata": {},
   "outputs": [],
   "source": []
  }
 ],
 "metadata": {
  "celltoolbar": "Raw Cell Format",
  "kernelspec": {
   "display_name": "R",
   "language": "R",
   "name": "ir"
  },
  "language_info": {
   "codemirror_mode": "r",
   "file_extension": ".r",
   "mimetype": "text/x-r-source",
   "name": "R",
   "pygments_lexer": "r",
   "version": "3.6.0"
  }
 },
 "nbformat": 4,
 "nbformat_minor": 2
}
